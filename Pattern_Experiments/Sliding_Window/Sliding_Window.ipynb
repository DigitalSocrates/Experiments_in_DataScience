{
 "cells": [
  {
   "cell_type": "markdown",
   "metadata": {},
   "source": [
    "# Experimentation with sliding window"
   ]
  },
  {
   "cell_type": "code",
   "execution_count": 2,
   "metadata": {},
   "outputs": [],
   "source": [
    "from sliding_window import find_avg_of_subarrays"
   ]
  },
  {
   "cell_type": "markdown",
   "metadata": {},
   "source": [
    "## Function Explanation\n",
    "```\n",
    "def find_avg_of_subarrays(arr, K):\n",
    "    results = []\n",
    "    for i in range(len(arr) - K + 1):\n",
    "        total_sum = sum(arr[i:i + K])\n",
    "        avg = total_sum / K\n",
    "        results.append(avg)\n",
    "    return results\n",
    "\n",
    "```\n",
    "\n",
    "## Here's how this works\n",
    "\n",
    "1. It initializes an empty list `results` to store the average values of subarrays.\n",
    "1. It iterates through the input array `arr` using a for loop, where the loop variable `i` represents the starting index of each subarray.\n",
    "1. For each subarray, it calculates the sum of its elements using the sum function and the slice notation `arr[i:i + K]`, where `K` represents the length of the subarray.\n",
    "1. It then calculates the average of the subarray by dividing the sum by `K`.\n",
    "1. The calculated average is appended to the `results` list.\n",
    "1. Finally, the function returns the `results` list containing the average values of all subarrays of length `K` in the input array."
   ]
  },
  {
   "cell_type": "code",
   "execution_count": 3,
   "metadata": {},
   "outputs": [
    {
     "name": "stdout",
     "output_type": "stream",
     "text": [
      "Averages of subarrays: [2.0, 3.0, 4.0, 5.0, 6.0, 7.0, 8.0]\n"
     ]
    }
   ],
   "source": [
    "# Example usage\n",
    "input_arr = [1, 2, 3, 4, 5, 6, 7, 8, 9]\n",
    "subarray_length = 3\n",
    "averages = find_avg_of_subarrays(input_arr, subarray_length)\n",
    "print(\"Averages of subarrays:\", averages)"
   ]
  },
  {
   "cell_type": "markdown",
   "metadata": {},
   "source": [
    "## The runtime complexity of the `find_avg_of_subarrays` function can be analyzed as follows:\n",
    "\n",
    "1. The outer loop runs for `len(arr) - K + 1` iterations, where `len(arr)` is the length of the input array and `K` is the length of the subarray for which you are calculating the average. This loop iterates through all possible starting positions of subarrays of length `K`.\n",
    "\n",
    "2. Inside the outer loop, there is a slice operation `arr[i:i + K]` to extract the subarray of length `K`. Slicing an array in Python takes O(K) time, where K is the length of the slice.\n",
    "\n",
    "3. After extracting the subarray, the `sum` function is used to calculate the sum of its elements. The `sum` function has a time complexity of O(K) because it needs to iterate through the entire subarray to calculate the sum.\n",
    "\n",
    "4. The average is then calculated by dividing the sum by `K`, which is a constant-time operation.\n",
    "\n",
    "Since the most significant factor affecting the runtime complexity is the outer loop, the overall runtime complexity of the function is O((N - K + 1) * K), where N is the length of the input array and K is the length of the subarray.\n",
    "\n",
    "In the worst case, when `K` is close to `N`, the function's runtime complexity can be approximated as O(N^2). However, if `K` is much smaller than `N`, the function's runtime will be closer to O(N * K).\n",
    "\n",
    "Keep in mind that the actual runtime performance will depend on the specific values of `N` and `K` and the underlying hardware, but this analysis gives you a rough estimate of the function's time complexity."
   ]
  },
  {
   "cell_type": "markdown",
   "metadata": {},
   "source": [
    "## The space complexity of the `find_avg_of_subarrays` function is determined by the additional data structures it uses. Let's break down the space complexity:\n",
    "\n",
    "1. `results` List: The function creates a list called `results` to store the average values of subarrays. The maximum number of elements in this list will be `(N - K + 1)`, where `N` is the length of the input array and `K` is the length of the subarray. Therefore, the space complexity due to the `results` list is O(N - K + 1), which can be approximated as O(N) if `K` is much smaller than `N`.\n",
    "\n",
    "2. Loop Variables: The function uses loop variables `i`, `total_sum`, and `avg`. These variables do not depend on the size of the input data and occupy a constant amount of memory. Their space complexity is O(1).\n",
    "\n",
    "Overall, the dominant factor in the space complexity is the `results` list, which is O(N) in terms of space. The rest of the variables used in the function have a constant space complexity."
   ]
  }
 ],
 "metadata": {
  "kernelspec": {
   "display_name": ".venv",
   "language": "python",
   "name": "python3"
  },
  "language_info": {
   "codemirror_mode": {
    "name": "ipython",
    "version": 3
   },
   "file_extension": ".py",
   "mimetype": "text/x-python",
   "name": "python",
   "nbconvert_exporter": "python",
   "pygments_lexer": "ipython3",
   "version": "3.11.6"
  },
  "orig_nbformat": 4
 },
 "nbformat": 4,
 "nbformat_minor": 2
}
