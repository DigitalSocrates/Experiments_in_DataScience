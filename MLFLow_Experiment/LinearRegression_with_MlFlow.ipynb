{
  "nbformat": 4,
  "nbformat_minor": 0,
  "metadata": {
    "colab": {
      "provenance": [],
      "authorship_tag": "ABX9TyMKtTbaPvXpzmxY9TGpB33D",
      "include_colab_link": true
    },
    "kernelspec": {
      "name": "python3",
      "display_name": "Python 3"
    },
    "language_info": {
      "name": "python"
    }
  },
  "cells": [
    {
      "cell_type": "markdown",
      "metadata": {
        "id": "view-in-github",
        "colab_type": "text"
      },
      "source": [
        "<a href=\"https://colab.research.google.com/github/DigitalSocrates/DataScience/blob/master/MLFLow_Experiment%5CLinearRegression_with_MlFlow.ipynb\" target=\"_parent\"><img src=\"https://colab.research.google.com/assets/colab-badge.svg\" alt=\"Open In Colab\"/></a>"
      ]
    },
    {
      "cell_type": "markdown",
      "source": [
        "working with ML Models and MLFlow"
      ],
      "metadata": {
        "id": "ZXmIUU1jqwYp"
      }
    },
    {
      "cell_type": "code",
      "source": [
        "# imports\n",
        "import pandas as pd\n",
        "from datetime import datetime\n",
        "from sklearn.model_selection import train_test_split\n",
        "from sklearn.linear_model import LinearRegression\n",
        "from sklearn.metrics import mean_absolute_error, mean_squared_error, r2_score"
      ],
      "metadata": {
        "id": "Ke-Jjyl0r7c7"
      },
      "execution_count": null,
      "outputs": []
    },
    {
      "cell_type": "code",
      "source": [
        "# Load the dataset - file is located in the same folder as the notebook\n",
        "raw_ccpp_data = pd.read_csv('CCPP_data.csv')"
      ],
      "metadata": {
        "id": "yay6G5ldsAac"
      },
      "execution_count": null,
      "outputs": []
    },
    {
      "cell_type": "code",
      "source": [
        "# let us examine the dataframe\n",
        "raw_ccpp_data.info"
      ],
      "metadata": {
        "id": "D-gIMRJGsET7"
      },
      "execution_count": null,
      "outputs": []
    },
    {
      "cell_type": "code",
      "source": [
        "# summary statistics\n",
        "raw_ccpp_data.describe()"
      ],
      "metadata": {
        "id": "fQq6E4oesFve"
      },
      "execution_count": null,
      "outputs": []
    },
    {
      "cell_type": "markdown",
      "source": [
        "We want to check our data for the following\n",
        "- Temperature (T) in the range 1.81°C to 37.11°C,\n",
        "- Ambient Pressure (AP) in the range 992.89-1033.30 milibar,\n",
        "- Relative Humidity (RH) in the range 25.56% to 100.16%\n",
        "- Exhaust Vacuum (V) in the range 25.36-81.56 cm Hg\n",
        "- Net hourly electrical energy output (PE) 420.26-495.76 MW (Target we are trying to predict)"
      ],
      "metadata": {
        "id": "EjXBtPl8sHM2"
      }
    },
    {
      "cell_type": "code",
      "source": [
        "# query data and create new data frame\n",
        "ccpp_data = raw_ccpp_data.query('(AT >= 1.81 & AT <= 37.11) & (V >= 25.36 & V <= 81.56) & (AP >= 992.89 & AP <= 1033.30) & (RH >= 25.56 & RH <= 100.16)')"
      ],
      "metadata": {
        "id": "9BEdhz3VsJzJ"
      },
      "execution_count": null,
      "outputs": []
    },
    {
      "cell_type": "code",
      "source": [
        "# summary statistics including all collumns\n",
        "ccpp_data.describe(include='all')"
      ],
      "metadata": {
        "id": "bZlY68mXsNBJ"
      },
      "execution_count": null,
      "outputs": []
    },
    {
      "cell_type": "markdown",
      "source": [
        "Features and target selection"
      ],
      "metadata": {
        "id": "JWaUHt1EsPhh"
      }
    },
    {
      "cell_type": "code",
      "source": [
        "X = ccpp_data.drop('PE', axis=1)  # Features\n",
        "y = ccpp_data['PE']  # Target variable"
      ],
      "metadata": {
        "id": "9CgIDVGCsRUZ"
      },
      "execution_count": null,
      "outputs": []
    },
    {
      "cell_type": "code",
      "source": [
        "# Split the data into training and testing sets\n",
        "# 70% data for training and 30% data for test\n",
        "X_train, X_test, y_train, y_test = train_test_split(X, y, test_size=0.3, random_state=42)"
      ],
      "metadata": {
        "id": "VABe_kaPsb4y"
      },
      "execution_count": null,
      "outputs": []
    },
    {
      "cell_type": "code",
      "source": [
        "# training set\n",
        "print(X_train.describe(include='all'))\n",
        "# test set\n",
        "print(X_test.describe(include='all'))"
      ],
      "metadata": {
        "id": "mHir8Hu1sdlb"
      },
      "execution_count": null,
      "outputs": []
    },
    {
      "cell_type": "markdown",
      "source": [
        "Prepare for mlflow\n",
        "\n",
        "MUST start mlflow prior to training the model use\n",
        "mlflow ui\n",
        "to check that service is running check\n",
        "http://127.0.0.1:5000\n",
        "\n",
        "Few important points\n",
        "1. mflow is set to autolog for sklearn\n",
        "2. log_models is set to True\n",
        "3. log_datasets is set to True"
      ],
      "metadata": {
        "id": "HKlSM4kishNb"
      }
    },
    {
      "cell_type": "code",
      "source": [
        "# enable mlflow autologging\n",
        "import mlflow\n",
        "\n",
        "mlflow.set_tracking_uri('http://127.0.0.1:5000')\n",
        "mlflow.sklearn.autolog(disable=False,\n",
        "                       log_models=True,\n",
        "                       log_datasets=True)"
      ],
      "metadata": {
        "id": "wPRAjIKBsge1"
      },
      "execution_count": null,
      "outputs": []
    },
    {
      "cell_type": "markdown",
      "source": [
        "Set tags that will be useful for ML runs experiments"
      ],
      "metadata": {
        "id": "injSI1g4s2Yx"
      }
    },
    {
      "cell_type": "code",
      "source": [
        "# set metadata\n",
        "tags = {\"team\": \"Engineering Team Name\",\n",
        "        \"dataset\": \"CCPP model\",\n",
        "        \"release.version\": \"1.2.3\",\n",
        "        \"inputs\": X_train.columns,\n",
        "        \"target\": \"PE\"}\n",
        "\n",
        "now = datetime.now() # current date and time\n",
        "experiment_date = now.strftime(\"%m/%d/%Y, %H:%M:%S\")"
      ],
      "metadata": {
        "id": "4RTQEWZ3s6m0"
      },
      "execution_count": null,
      "outputs": []
    },
    {
      "cell_type": "markdown",
      "source": [
        "Run our first experiment with linear regression model\n",
        "\n",
        "Few points here\n",
        "1. setup run and use datetime stamp or use some other unique identifier"
      ],
      "metadata": {
        "id": "QVLxvb4ttEzQ"
      }
    },
    {
      "cell_type": "code",
      "source": [
        "# Using linear regression model\n",
        "with mlflow.start_run(run_name='linear_regression_exp__' + experiment_date):\n",
        "    mlflow.set_tags(tags)\n",
        "    model = LinearRegression(n_jobs=5)\n",
        "    model.fit(X_train, y_train)\n",
        "\n",
        "    # Model Evaluation\n",
        "    y_pred = model.predict(X_test)\n",
        "\n",
        "    # calculate different metrics\n",
        "    mae = mean_absolute_error(y_test, y_pred)\n",
        "    mse = mean_squared_error(y_test, y_pred)\n",
        "    rmse = mean_squared_error(y_test, y_pred, squared=False)\n",
        "    r2 = r2_score(y_test, y_pred)\n",
        "\n",
        "    mlflow.log_metric('mae', mae)\n",
        "    mlflow.log_metric('mse', mse)\n",
        "    mlflow.log_metric('rmse', rmse)\n",
        "    mlflow.log_metric('r2', r2)"
      ],
      "metadata": {
        "id": "ZKnpx4H-tFGa"
      },
      "execution_count": null,
      "outputs": []
    },
    {
      "cell_type": "markdown",
      "source": [
        "Display metrics collected\n",
        "\n",
        "TODO: need to add explanation for each here"
      ],
      "metadata": {
        "id": "-yXRb9MHtpZx"
      }
    },
    {
      "cell_type": "code",
      "source": [
        "print(f\"MAE: {mae}\")\n",
        "print(f\"MSE: {mse}\")\n",
        "print(f\"RMSE: {rmse}\")\n",
        "print(f\"R-squared: {r2}\")"
      ],
      "metadata": {
        "id": "-Q1_qSTPtsPr"
      },
      "execution_count": null,
      "outputs": []
    },
    {
      "cell_type": "markdown",
      "source": [
        "Using model to predict"
      ],
      "metadata": {
        "id": "x_T0lTBjuAQs"
      }
    },
    {
      "cell_type": "code",
      "source": [
        "# lets try to predict\n",
        "# Input features for prediction (replace with your own feature values)\n",
        "new_data = pd.DataFrame({\n",
        "    'AT': 14.96,\n",
        "    'V': 41.76,\n",
        "    'AP': 1024.07,\n",
        "    'RH': 73.17,\n",
        "}, index=[0])\n",
        "\n",
        "# PE\n",
        "expected_output = 463.26\n",
        "\n",
        "# Predict the electrical energy output for the new data\n",
        "predicted_energy_output = model.predict(new_data)\n",
        "\n",
        "print(f\"Predicted Electrical Energy Output: {predicted_energy_output[0]} and expected {expected_output}. Accuracy of {(expected_output/predicted_energy_output[0])*100}%\")"
      ],
      "metadata": {
        "id": "WxgmaYhSuEjX"
      },
      "execution_count": null,
      "outputs": []
    },
    {
      "cell_type": "markdown",
      "source": [
        "Visualize predicted vs actual"
      ],
      "metadata": {
        "id": "VuHhhEcit00p"
      }
    },
    {
      "cell_type": "code",
      "source": [
        "import matplotlib.pyplot as plt\n",
        "\n",
        "# scatter plot to visualize predicted va actial\n",
        "# note: y_test contains the actual energy output values, and y_pred contains the predicted values\n",
        "\n",
        "plt.figure(figsize=(8, 6))\n",
        "plt.scatter(y_test, y_pred, alpha=0.5)\n",
        "plt.xlabel('Actual Energy Output')\n",
        "plt.ylabel('Predicted Energy Output')\n",
        "plt.title('Actual vs. Predicted Energy Output')\n",
        "plt.grid(True)\n",
        "plt.show()"
      ],
      "metadata": {
        "id": "OPU7SC4Pt0IV"
      },
      "execution_count": null,
      "outputs": []
    }
  ]
}