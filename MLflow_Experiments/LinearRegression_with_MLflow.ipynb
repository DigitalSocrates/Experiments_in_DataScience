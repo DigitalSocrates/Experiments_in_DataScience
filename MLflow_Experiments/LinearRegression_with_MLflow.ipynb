{
  "cells": [
    {
      "cell_type": "markdown",
      "metadata": {
        "id": "ZXmIUU1jqwYp"
      },
      "source": [
        "# Experiments with MLflow (training model using Linear Regression)\n",
        "\n",
        "Setting up experiments and recording metrics and other useful information\n",
        "\n",
        "**Readme.md contains additional details - please take a look**"
      ]
    },
    {
      "cell_type": "code",
      "execution_count": 3,
      "metadata": {},
      "outputs": [
        {
          "name": "stdout",
          "output_type": "stream",
          "text": [
            "Requirement already satisfied: mlflow in i:\\workspace\\experiments_in_datascience\\experiments_in_datascience\\.venv\\lib\\site-packages (2.7.0)\n",
            "Requirement already satisfied: click<9,>=7.0 in i:\\workspace\\experiments_in_datascience\\experiments_in_datascience\\.venv\\lib\\site-packages (from mlflow) (8.1.7)\n",
            "Requirement already satisfied: cloudpickle<3 in i:\\workspace\\experiments_in_datascience\\experiments_in_datascience\\.venv\\lib\\site-packages (from mlflow) (2.2.1)\n",
            "Requirement already satisfied: databricks-cli<1,>=0.8.7 in i:\\workspace\\experiments_in_datascience\\experiments_in_datascience\\.venv\\lib\\site-packages (from mlflow) (0.17.7)\n",
            "Requirement already satisfied: entrypoints<1 in i:\\workspace\\experiments_in_datascience\\experiments_in_datascience\\.venv\\lib\\site-packages (from mlflow) (0.4)\n",
            "Requirement already satisfied: gitpython<4,>=2.1.0 in i:\\workspace\\experiments_in_datascience\\experiments_in_datascience\\.venv\\lib\\site-packages (from mlflow) (3.1.36)\n",
            "Requirement already satisfied: pyyaml<7,>=5.1 in i:\\workspace\\experiments_in_datascience\\experiments_in_datascience\\.venv\\lib\\site-packages (from mlflow) (6.0.1)\n",
            "Requirement already satisfied: protobuf<5,>=3.12.0 in i:\\workspace\\experiments_in_datascience\\experiments_in_datascience\\.venv\\lib\\site-packages (from mlflow) (4.24.3)\n",
            "Requirement already satisfied: pytz<2024 in i:\\workspace\\experiments_in_datascience\\experiments_in_datascience\\.venv\\lib\\site-packages (from mlflow) (2023.3.post1)\n",
            "Requirement already satisfied: requests<3,>=2.17.3 in i:\\workspace\\experiments_in_datascience\\experiments_in_datascience\\.venv\\lib\\site-packages (from mlflow) (2.31.0)\n",
            "Requirement already satisfied: packaging<24 in i:\\workspace\\experiments_in_datascience\\experiments_in_datascience\\.venv\\lib\\site-packages (from mlflow) (23.1)\n",
            "Requirement already satisfied: importlib-metadata!=4.7.0,<7,>=3.7.0 in i:\\workspace\\experiments_in_datascience\\experiments_in_datascience\\.venv\\lib\\site-packages (from mlflow) (6.8.0)\n",
            "Requirement already satisfied: sqlparse<1,>=0.4.0 in i:\\workspace\\experiments_in_datascience\\experiments_in_datascience\\.venv\\lib\\site-packages (from mlflow) (0.4.4)\n",
            "Requirement already satisfied: alembic!=1.10.0,<2 in i:\\workspace\\experiments_in_datascience\\experiments_in_datascience\\.venv\\lib\\site-packages (from mlflow) (1.12.0)\n",
            "Requirement already satisfied: docker<7,>=4.0.0 in i:\\workspace\\experiments_in_datascience\\experiments_in_datascience\\.venv\\lib\\site-packages (from mlflow) (6.1.3)\n",
            "Requirement already satisfied: Flask<3 in i:\\workspace\\experiments_in_datascience\\experiments_in_datascience\\.venv\\lib\\site-packages (from mlflow) (2.3.3)\n",
            "Requirement already satisfied: numpy<2 in i:\\workspace\\experiments_in_datascience\\experiments_in_datascience\\.venv\\lib\\site-packages (from mlflow) (1.25.2)\n",
            "Requirement already satisfied: scipy<2 in i:\\workspace\\experiments_in_datascience\\experiments_in_datascience\\.venv\\lib\\site-packages (from mlflow) (1.11.2)\n",
            "Requirement already satisfied: pandas<3 in i:\\workspace\\experiments_in_datascience\\experiments_in_datascience\\.venv\\lib\\site-packages (from mlflow) (2.1.0)\n",
            "Requirement already satisfied: querystring-parser<2 in i:\\workspace\\experiments_in_datascience\\experiments_in_datascience\\.venv\\lib\\site-packages (from mlflow) (1.2.4)\n",
            "Requirement already satisfied: sqlalchemy<3,>=1.4.0 in i:\\workspace\\experiments_in_datascience\\experiments_in_datascience\\.venv\\lib\\site-packages (from mlflow) (2.0.20)\n",
            "Requirement already satisfied: scikit-learn<2 in i:\\workspace\\experiments_in_datascience\\experiments_in_datascience\\.venv\\lib\\site-packages (from mlflow) (1.3.0)\n",
            "Requirement already satisfied: pyarrow<14,>=4.0.0 in i:\\workspace\\experiments_in_datascience\\experiments_in_datascience\\.venv\\lib\\site-packages (from mlflow) (13.0.0)\n",
            "Requirement already satisfied: markdown<4,>=3.3 in i:\\workspace\\experiments_in_datascience\\experiments_in_datascience\\.venv\\lib\\site-packages (from mlflow) (3.4.4)\n",
            "Requirement already satisfied: matplotlib<4 in i:\\workspace\\experiments_in_datascience\\experiments_in_datascience\\.venv\\lib\\site-packages (from mlflow) (3.7.3)\n",
            "Requirement already satisfied: waitress<3 in i:\\workspace\\experiments_in_datascience\\experiments_in_datascience\\.venv\\lib\\site-packages (from mlflow) (2.1.2)\n",
            "Requirement already satisfied: Jinja2<4,>=3.0 in i:\\workspace\\experiments_in_datascience\\experiments_in_datascience\\.venv\\lib\\site-packages (from mlflow) (3.1.2)\n",
            "Requirement already satisfied: Mako in i:\\workspace\\experiments_in_datascience\\experiments_in_datascience\\.venv\\lib\\site-packages (from alembic!=1.10.0,<2->mlflow) (1.2.4)\n",
            "Requirement already satisfied: typing-extensions>=4 in i:\\workspace\\experiments_in_datascience\\experiments_in_datascience\\.venv\\lib\\site-packages (from alembic!=1.10.0,<2->mlflow) (4.7.1)\n",
            "Requirement already satisfied: colorama in i:\\workspace\\experiments_in_datascience\\experiments_in_datascience\\.venv\\lib\\site-packages (from click<9,>=7.0->mlflow) (0.4.6)\n",
            "Requirement already satisfied: pyjwt>=1.7.0 in i:\\workspace\\experiments_in_datascience\\experiments_in_datascience\\.venv\\lib\\site-packages (from databricks-cli<1,>=0.8.7->mlflow) (2.8.0)\n",
            "Requirement already satisfied: oauthlib>=3.1.0 in i:\\workspace\\experiments_in_datascience\\experiments_in_datascience\\.venv\\lib\\site-packages (from databricks-cli<1,>=0.8.7->mlflow) (3.2.2)\n",
            "Requirement already satisfied: tabulate>=0.7.7 in i:\\workspace\\experiments_in_datascience\\experiments_in_datascience\\.venv\\lib\\site-packages (from databricks-cli<1,>=0.8.7->mlflow) (0.9.0)\n",
            "Requirement already satisfied: six>=1.10.0 in i:\\workspace\\experiments_in_datascience\\experiments_in_datascience\\.venv\\lib\\site-packages (from databricks-cli<1,>=0.8.7->mlflow) (1.16.0)\n",
            "Requirement already satisfied: urllib3<2.0.0,>=1.26.7 in i:\\workspace\\experiments_in_datascience\\experiments_in_datascience\\.venv\\lib\\site-packages (from databricks-cli<1,>=0.8.7->mlflow) (1.26.16)\n",
            "Requirement already satisfied: websocket-client>=0.32.0 in i:\\workspace\\experiments_in_datascience\\experiments_in_datascience\\.venv\\lib\\site-packages (from docker<7,>=4.0.0->mlflow) (1.6.3)\n",
            "Requirement already satisfied: pywin32>=304 in i:\\workspace\\experiments_in_datascience\\experiments_in_datascience\\.venv\\lib\\site-packages (from docker<7,>=4.0.0->mlflow) (306)\n",
            "Requirement already satisfied: Werkzeug>=2.3.7 in i:\\workspace\\experiments_in_datascience\\experiments_in_datascience\\.venv\\lib\\site-packages (from Flask<3->mlflow) (2.3.7)\n",
            "Requirement already satisfied: itsdangerous>=2.1.2 in i:\\workspace\\experiments_in_datascience\\experiments_in_datascience\\.venv\\lib\\site-packages (from Flask<3->mlflow) (2.1.2)\n",
            "Requirement already satisfied: blinker>=1.6.2 in i:\\workspace\\experiments_in_datascience\\experiments_in_datascience\\.venv\\lib\\site-packages (from Flask<3->mlflow) (1.6.2)\n",
            "Requirement already satisfied: gitdb<5,>=4.0.1 in i:\\workspace\\experiments_in_datascience\\experiments_in_datascience\\.venv\\lib\\site-packages (from gitpython<4,>=2.1.0->mlflow) (4.0.10)\n",
            "Requirement already satisfied: zipp>=0.5 in i:\\workspace\\experiments_in_datascience\\experiments_in_datascience\\.venv\\lib\\site-packages (from importlib-metadata!=4.7.0,<7,>=3.7.0->mlflow) (3.16.2)\n",
            "Requirement already satisfied: MarkupSafe>=2.0 in i:\\workspace\\experiments_in_datascience\\experiments_in_datascience\\.venv\\lib\\site-packages (from Jinja2<4,>=3.0->mlflow) (2.1.3)\n",
            "Requirement already satisfied: contourpy>=1.0.1 in i:\\workspace\\experiments_in_datascience\\experiments_in_datascience\\.venv\\lib\\site-packages (from matplotlib<4->mlflow) (1.1.0)\n",
            "Requirement already satisfied: cycler>=0.10 in i:\\workspace\\experiments_in_datascience\\experiments_in_datascience\\.venv\\lib\\site-packages (from matplotlib<4->mlflow) (0.11.0)\n",
            "Requirement already satisfied: fonttools>=4.22.0 in i:\\workspace\\experiments_in_datascience\\experiments_in_datascience\\.venv\\lib\\site-packages (from matplotlib<4->mlflow) (4.42.1)\n",
            "Requirement already satisfied: kiwisolver>=1.0.1 in i:\\workspace\\experiments_in_datascience\\experiments_in_datascience\\.venv\\lib\\site-packages (from matplotlib<4->mlflow) (1.4.5)\n",
            "Requirement already satisfied: pillow>=6.2.0 in i:\\workspace\\experiments_in_datascience\\experiments_in_datascience\\.venv\\lib\\site-packages (from matplotlib<4->mlflow) (10.0.0)\n",
            "Requirement already satisfied: pyparsing>=2.3.1 in i:\\workspace\\experiments_in_datascience\\experiments_in_datascience\\.venv\\lib\\site-packages (from matplotlib<4->mlflow) (3.1.1)\n",
            "Requirement already satisfied: python-dateutil>=2.7 in i:\\workspace\\experiments_in_datascience\\experiments_in_datascience\\.venv\\lib\\site-packages (from matplotlib<4->mlflow) (2.8.2)\n",
            "Requirement already satisfied: tzdata>=2022.1 in i:\\workspace\\experiments_in_datascience\\experiments_in_datascience\\.venv\\lib\\site-packages (from pandas<3->mlflow) (2023.3)\n",
            "Requirement already satisfied: charset-normalizer<4,>=2 in i:\\workspace\\experiments_in_datascience\\experiments_in_datascience\\.venv\\lib\\site-packages (from requests<3,>=2.17.3->mlflow) (3.2.0)\n",
            "Requirement already satisfied: idna<4,>=2.5 in i:\\workspace\\experiments_in_datascience\\experiments_in_datascience\\.venv\\lib\\site-packages (from requests<3,>=2.17.3->mlflow) (3.4)\n",
            "Requirement already satisfied: certifi>=2017.4.17 in i:\\workspace\\experiments_in_datascience\\experiments_in_datascience\\.venv\\lib\\site-packages (from requests<3,>=2.17.3->mlflow) (2023.7.22)\n",
            "Requirement already satisfied: joblib>=1.1.1 in i:\\workspace\\experiments_in_datascience\\experiments_in_datascience\\.venv\\lib\\site-packages (from scikit-learn<2->mlflow) (1.3.2)\n",
            "Requirement already satisfied: threadpoolctl>=2.0.0 in i:\\workspace\\experiments_in_datascience\\experiments_in_datascience\\.venv\\lib\\site-packages (from scikit-learn<2->mlflow) (3.2.0)\n",
            "Requirement already satisfied: greenlet!=0.4.17 in i:\\workspace\\experiments_in_datascience\\experiments_in_datascience\\.venv\\lib\\site-packages (from sqlalchemy<3,>=1.4.0->mlflow) (2.0.2)\n",
            "Requirement already satisfied: smmap<6,>=3.0.1 in i:\\workspace\\experiments_in_datascience\\experiments_in_datascience\\.venv\\lib\\site-packages (from gitdb<5,>=4.0.1->gitpython<4,>=2.1.0->mlflow) (5.0.0)\n",
            "Note: you may need to restart the kernel to use updated packages.\n",
            "Requirement already satisfied: missingno in i:\\workspace\\experiments_in_datascience\\experiments_in_datascience\\.venv\\lib\\site-packages (0.5.2)\n",
            "Requirement already satisfied: numpy in i:\\workspace\\experiments_in_datascience\\experiments_in_datascience\\.venv\\lib\\site-packages (from missingno) (1.25.2)\n",
            "Requirement already satisfied: matplotlib in i:\\workspace\\experiments_in_datascience\\experiments_in_datascience\\.venv\\lib\\site-packages (from missingno) (3.7.3)\n",
            "Requirement already satisfied: scipy in i:\\workspace\\experiments_in_datascience\\experiments_in_datascience\\.venv\\lib\\site-packages (from missingno) (1.11.2)\n",
            "Requirement already satisfied: seaborn in i:\\workspace\\experiments_in_datascience\\experiments_in_datascience\\.venv\\lib\\site-packages (from missingno) (0.12.2)\n",
            "Requirement already satisfied: contourpy>=1.0.1 in i:\\workspace\\experiments_in_datascience\\experiments_in_datascience\\.venv\\lib\\site-packages (from matplotlib->missingno) (1.1.0)\n",
            "Requirement already satisfied: cycler>=0.10 in i:\\workspace\\experiments_in_datascience\\experiments_in_datascience\\.venv\\lib\\site-packages (from matplotlib->missingno) (0.11.0)\n",
            "Requirement already satisfied: fonttools>=4.22.0 in i:\\workspace\\experiments_in_datascience\\experiments_in_datascience\\.venv\\lib\\site-packages (from matplotlib->missingno) (4.42.1)\n",
            "Requirement already satisfied: kiwisolver>=1.0.1 in i:\\workspace\\experiments_in_datascience\\experiments_in_datascience\\.venv\\lib\\site-packages (from matplotlib->missingno) (1.4.5)\n",
            "Requirement already satisfied: packaging>=20.0 in i:\\workspace\\experiments_in_datascience\\experiments_in_datascience\\.venv\\lib\\site-packages (from matplotlib->missingno) (23.1)\n",
            "Requirement already satisfied: pillow>=6.2.0 in i:\\workspace\\experiments_in_datascience\\experiments_in_datascience\\.venv\\lib\\site-packages (from matplotlib->missingno) (10.0.0)\n",
            "Requirement already satisfied: pyparsing>=2.3.1 in i:\\workspace\\experiments_in_datascience\\experiments_in_datascience\\.venv\\lib\\site-packages (from matplotlib->missingno) (3.1.1)\n",
            "Requirement already satisfied: python-dateutil>=2.7 in i:\\workspace\\experiments_in_datascience\\experiments_in_datascience\\.venv\\lib\\site-packages (from matplotlib->missingno) (2.8.2)\n",
            "Requirement already satisfied: pandas>=0.25 in i:\\workspace\\experiments_in_datascience\\experiments_in_datascience\\.venv\\lib\\site-packages (from seaborn->missingno) (2.1.0)\n",
            "Requirement already satisfied: pytz>=2020.1 in i:\\workspace\\experiments_in_datascience\\experiments_in_datascience\\.venv\\lib\\site-packages (from pandas>=0.25->seaborn->missingno) (2023.3.post1)\n",
            "Requirement already satisfied: tzdata>=2022.1 in i:\\workspace\\experiments_in_datascience\\experiments_in_datascience\\.venv\\lib\\site-packages (from pandas>=0.25->seaborn->missingno) (2023.3)\n",
            "Requirement already satisfied: six>=1.5 in i:\\workspace\\experiments_in_datascience\\experiments_in_datascience\\.venv\\lib\\site-packages (from python-dateutil>=2.7->matplotlib->missingno) (1.16.0)\n",
            "Note: you may need to restart the kernel to use updated packages.\n"
          ]
        }
      ],
      "source": [
        "# install mlflow if its missing \n",
        "%pip install mlflow\n",
        "%pip install missingno"
      ]
    },
    {
      "cell_type": "code",
      "execution_count": 7,
      "metadata": {
        "id": "Ke-Jjyl0r7c7"
      },
      "outputs": [],
      "source": [
        "# imports\n",
        "# pandas library for i/o and dataframes \n",
        "import pandas as pd\n",
        "import mlflow.sklearn\n",
        "import missingno as msno\n",
        "import matplotlib.pyplot as plt\n",
        "from os.path import exists\n",
        "from datetime import datetime\n",
        "from sklearn.model_selection import train_test_split\n",
        "from sklearn.linear_model import LinearRegression\n",
        "from sklearn.metrics import mean_absolute_error, mean_squared_error, r2_score"
      ]
    },
    {
      "cell_type": "code",
      "execution_count": 14,
      "metadata": {},
      "outputs": [],
      "source": [
        "# declare some constants\n",
        "FIG_SIZE=(8, 6)\n",
        "\n",
        "# test size for datasets generation\n",
        "TEST_SIZE = .3\n",
        "\n",
        "# dataset filename\n",
        "DATASET_LOCAL_COPY = './static/data/CCPP_data.parquet'"
      ]
    },
    {
      "cell_type": "markdown",
      "metadata": {},
      "source": [
        "### Loading data\n",
        "\n",
        "You can use stored csv or get data from the source"
      ]
    },
    {
      "cell_type": "code",
      "execution_count": 15,
      "metadata": {
        "id": "yay6G5ldsAac"
      },
      "outputs": [],
      "source": [
        "# read data from a local folder raw_ccpp_data = pd.read_csv('MLFLow_Experiments/static/data/CCPP_data.csv')\n",
        "# check if file already been downloaded \n",
        "if exists(DATASET_LOCAL_COPY) != True:\n",
        "    # get data from the source \n",
        "    raw_ccpp_data = pd.read_csv('https://storage.googleapis.com/aipi_datasets/CCPP_data.csv',\n",
        "                                skipinitialspace=True)\n",
        "\n",
        "    # save data\n",
        "    raw_ccpp_data.to_parquet(path=DATASET_LOCAL_COPY)\n",
        "else:\n",
        "    raw_ccpp_data = pd.read_parquet(DATASET_LOCAL_COPY)"
      ]
    },
    {
      "cell_type": "code",
      "execution_count": 6,
      "metadata": {
        "id": "D-gIMRJGsET7"
      },
      "outputs": [
        {
          "data": {
            "text/plain": [
              "<bound method DataFrame.info of          AT      V       AP     RH      PE\n",
              "0     14.96  41.76  1024.07  73.17  463.26\n",
              "1     25.18  62.96  1020.04  59.08  444.37\n",
              "2      5.11  39.40  1012.16  92.14  488.56\n",
              "3     20.86  57.32  1010.24  76.64  446.48\n",
              "4     10.82  37.50  1009.23  96.62  473.90\n",
              "...     ...    ...      ...    ...     ...\n",
              "9563  16.65  49.69  1014.01  91.00  460.03\n",
              "9564  13.19  39.18  1023.67  66.78  469.62\n",
              "9565  31.32  74.33  1012.92  36.48  429.57\n",
              "9566  24.48  69.45  1013.86  62.39  435.74\n",
              "9567  21.60  62.52  1017.23  67.87  453.28\n",
              "\n",
              "[9568 rows x 5 columns]>"
            ]
          },
          "execution_count": 6,
          "metadata": {},
          "output_type": "execute_result"
        }
      ],
      "source": [
        "# let us examine the resulting dataframe\n",
        "raw_ccpp_data.info"
      ]
    },
    {
      "cell_type": "code",
      "execution_count": 7,
      "metadata": {
        "id": "fQq6E4oesFve"
      },
      "outputs": [
        {
          "data": {
            "text/html": [
              "<div>\n",
              "<style scoped>\n",
              "    .dataframe tbody tr th:only-of-type {\n",
              "        vertical-align: middle;\n",
              "    }\n",
              "\n",
              "    .dataframe tbody tr th {\n",
              "        vertical-align: top;\n",
              "    }\n",
              "\n",
              "    .dataframe thead th {\n",
              "        text-align: right;\n",
              "    }\n",
              "</style>\n",
              "<table border=\"1\" class=\"dataframe\">\n",
              "  <thead>\n",
              "    <tr style=\"text-align: right;\">\n",
              "      <th></th>\n",
              "      <th>AT</th>\n",
              "      <th>V</th>\n",
              "      <th>AP</th>\n",
              "      <th>RH</th>\n",
              "      <th>PE</th>\n",
              "    </tr>\n",
              "  </thead>\n",
              "  <tbody>\n",
              "    <tr>\n",
              "      <th>count</th>\n",
              "      <td>9568.000000</td>\n",
              "      <td>9568.000000</td>\n",
              "      <td>9568.000000</td>\n",
              "      <td>9568.000000</td>\n",
              "      <td>9568.000000</td>\n",
              "    </tr>\n",
              "    <tr>\n",
              "      <th>mean</th>\n",
              "      <td>19.651231</td>\n",
              "      <td>54.305804</td>\n",
              "      <td>1013.259078</td>\n",
              "      <td>73.308978</td>\n",
              "      <td>454.365009</td>\n",
              "    </tr>\n",
              "    <tr>\n",
              "      <th>std</th>\n",
              "      <td>7.452473</td>\n",
              "      <td>12.707893</td>\n",
              "      <td>5.938784</td>\n",
              "      <td>14.600269</td>\n",
              "      <td>17.066995</td>\n",
              "    </tr>\n",
              "    <tr>\n",
              "      <th>min</th>\n",
              "      <td>1.810000</td>\n",
              "      <td>25.360000</td>\n",
              "      <td>992.890000</td>\n",
              "      <td>25.560000</td>\n",
              "      <td>420.260000</td>\n",
              "    </tr>\n",
              "    <tr>\n",
              "      <th>25%</th>\n",
              "      <td>13.510000</td>\n",
              "      <td>41.740000</td>\n",
              "      <td>1009.100000</td>\n",
              "      <td>63.327500</td>\n",
              "      <td>439.750000</td>\n",
              "    </tr>\n",
              "    <tr>\n",
              "      <th>50%</th>\n",
              "      <td>20.345000</td>\n",
              "      <td>52.080000</td>\n",
              "      <td>1012.940000</td>\n",
              "      <td>74.975000</td>\n",
              "      <td>451.550000</td>\n",
              "    </tr>\n",
              "    <tr>\n",
              "      <th>75%</th>\n",
              "      <td>25.720000</td>\n",
              "      <td>66.540000</td>\n",
              "      <td>1017.260000</td>\n",
              "      <td>84.830000</td>\n",
              "      <td>468.430000</td>\n",
              "    </tr>\n",
              "    <tr>\n",
              "      <th>max</th>\n",
              "      <td>37.110000</td>\n",
              "      <td>81.560000</td>\n",
              "      <td>1033.300000</td>\n",
              "      <td>100.160000</td>\n",
              "      <td>495.760000</td>\n",
              "    </tr>\n",
              "  </tbody>\n",
              "</table>\n",
              "</div>"
            ],
            "text/plain": [
              "                AT            V           AP           RH           PE\n",
              "count  9568.000000  9568.000000  9568.000000  9568.000000  9568.000000\n",
              "mean     19.651231    54.305804  1013.259078    73.308978   454.365009\n",
              "std       7.452473    12.707893     5.938784    14.600269    17.066995\n",
              "min       1.810000    25.360000   992.890000    25.560000   420.260000\n",
              "25%      13.510000    41.740000  1009.100000    63.327500   439.750000\n",
              "50%      20.345000    52.080000  1012.940000    74.975000   451.550000\n",
              "75%      25.720000    66.540000  1017.260000    84.830000   468.430000\n",
              "max      37.110000    81.560000  1033.300000   100.160000   495.760000"
            ]
          },
          "execution_count": 7,
          "metadata": {},
          "output_type": "execute_result"
        }
      ],
      "source": [
        "# display dataframe's summary statistics\n",
        "raw_ccpp_data.describe()"
      ]
    },
    {
      "cell_type": "markdown",
      "metadata": {
        "id": "EjXBtPl8sHM2"
      },
      "source": [
        "### Data cleaning step\n",
        "\n",
        "We want to ensure that data falls with the following specifications\n",
        "- Temperature (T) in the range 1.81°C to 37.11°C\n",
        "- Ambient Pressure (AP) in the range 992.89-1033.30 milibar\n",
        "- Relative Humidity (RH) in the range 25.56% to 100.16%\n",
        "- Exhaust Vacuum (V) in the range 25.36-81.56 cm Hg\n",
        "- Net hourly electrical energy output (PE) 420.26-495.76 MW (Target we are trying to predict)"
      ]
    },
    {
      "cell_type": "code",
      "execution_count": 8,
      "metadata": {
        "id": "9BEdhz3VsJzJ"
      },
      "outputs": [],
      "source": [
        "# query the data from raw dataframe and create new data frame\n",
        "ccpp_data = raw_ccpp_data.query('(AT >= 1.81 & AT <= 37.11) &\\\n",
        "                                 (V >= 25.36 & V <= 81.56) &\\\n",
        "                                 (AP >= 992.89 & AP <= 1033.30) &\\\n",
        "                                 (RH >= 25.56 & RH <= 100.16)')"
      ]
    },
    {
      "cell_type": "code",
      "execution_count": 9,
      "metadata": {
        "id": "bZlY68mXsNBJ"
      },
      "outputs": [
        {
          "data": {
            "text/html": [
              "<div>\n",
              "<style scoped>\n",
              "    .dataframe tbody tr th:only-of-type {\n",
              "        vertical-align: middle;\n",
              "    }\n",
              "\n",
              "    .dataframe tbody tr th {\n",
              "        vertical-align: top;\n",
              "    }\n",
              "\n",
              "    .dataframe thead th {\n",
              "        text-align: right;\n",
              "    }\n",
              "</style>\n",
              "<table border=\"1\" class=\"dataframe\">\n",
              "  <thead>\n",
              "    <tr style=\"text-align: right;\">\n",
              "      <th></th>\n",
              "      <th>AT</th>\n",
              "      <th>V</th>\n",
              "      <th>AP</th>\n",
              "      <th>RH</th>\n",
              "      <th>PE</th>\n",
              "    </tr>\n",
              "  </thead>\n",
              "  <tbody>\n",
              "    <tr>\n",
              "      <th>count</th>\n",
              "      <td>9568.000000</td>\n",
              "      <td>9568.000000</td>\n",
              "      <td>9568.000000</td>\n",
              "      <td>9568.000000</td>\n",
              "      <td>9568.000000</td>\n",
              "    </tr>\n",
              "    <tr>\n",
              "      <th>mean</th>\n",
              "      <td>19.651231</td>\n",
              "      <td>54.305804</td>\n",
              "      <td>1013.259078</td>\n",
              "      <td>73.308978</td>\n",
              "      <td>454.365009</td>\n",
              "    </tr>\n",
              "    <tr>\n",
              "      <th>std</th>\n",
              "      <td>7.452473</td>\n",
              "      <td>12.707893</td>\n",
              "      <td>5.938784</td>\n",
              "      <td>14.600269</td>\n",
              "      <td>17.066995</td>\n",
              "    </tr>\n",
              "    <tr>\n",
              "      <th>min</th>\n",
              "      <td>1.810000</td>\n",
              "      <td>25.360000</td>\n",
              "      <td>992.890000</td>\n",
              "      <td>25.560000</td>\n",
              "      <td>420.260000</td>\n",
              "    </tr>\n",
              "    <tr>\n",
              "      <th>25%</th>\n",
              "      <td>13.510000</td>\n",
              "      <td>41.740000</td>\n",
              "      <td>1009.100000</td>\n",
              "      <td>63.327500</td>\n",
              "      <td>439.750000</td>\n",
              "    </tr>\n",
              "    <tr>\n",
              "      <th>50%</th>\n",
              "      <td>20.345000</td>\n",
              "      <td>52.080000</td>\n",
              "      <td>1012.940000</td>\n",
              "      <td>74.975000</td>\n",
              "      <td>451.550000</td>\n",
              "    </tr>\n",
              "    <tr>\n",
              "      <th>75%</th>\n",
              "      <td>25.720000</td>\n",
              "      <td>66.540000</td>\n",
              "      <td>1017.260000</td>\n",
              "      <td>84.830000</td>\n",
              "      <td>468.430000</td>\n",
              "    </tr>\n",
              "    <tr>\n",
              "      <th>max</th>\n",
              "      <td>37.110000</td>\n",
              "      <td>81.560000</td>\n",
              "      <td>1033.300000</td>\n",
              "      <td>100.160000</td>\n",
              "      <td>495.760000</td>\n",
              "    </tr>\n",
              "  </tbody>\n",
              "</table>\n",
              "</div>"
            ],
            "text/plain": [
              "                AT            V           AP           RH           PE\n",
              "count  9568.000000  9568.000000  9568.000000  9568.000000  9568.000000\n",
              "mean     19.651231    54.305804  1013.259078    73.308978   454.365009\n",
              "std       7.452473    12.707893     5.938784    14.600269    17.066995\n",
              "min       1.810000    25.360000   992.890000    25.560000   420.260000\n",
              "25%      13.510000    41.740000  1009.100000    63.327500   439.750000\n",
              "50%      20.345000    52.080000  1012.940000    74.975000   451.550000\n",
              "75%      25.720000    66.540000  1017.260000    84.830000   468.430000\n",
              "max      37.110000    81.560000  1033.300000   100.160000   495.760000"
            ]
          },
          "execution_count": 9,
          "metadata": {},
          "output_type": "execute_result"
        }
      ],
      "source": [
        "# display dataframe's summary statistics including all collumns\n",
        "# we can use it to confirm the ranges as outlined above\n",
        "ccpp_data.describe(include='all')"
      ]
    },
    {
      "cell_type": "markdown",
      "metadata": {},
      "source": [
        "### Check for missing data\n",
        "\n",
        "using this helpful utility https://github.com/ResidentMario/missingno\n",
        "\n",
        "```...missingno provides a small toolset of flexible and easy-to-use missing data visualizations and utilities that allows you to get a quick visual summary of the completeness (or lack thereof) of your dataset. Just pip install missingno to get started.```\n",
        "\n",
        "I am using ```msno.matrix``` as per official documentation \"The msno.matrix nullity matrix is a data-dense display which lets you quickly visually pick out patterns in data completion.\" Also take a look at the sparkline on the right as its helpful as well \"The sparkline at right summarizes the general shape of the data completeness and points out the rows with the maximum and minimum nullity in the dataset.\"\n"
      ]
    },
    {
      "cell_type": "code",
      "execution_count": 10,
      "metadata": {},
      "outputs": [
        {
          "data": {
            "image/png": "[encoded data removed]",
            "text/plain": [
              "<Figure size 2500x1000 with 2 Axes>"
            ]
          },
          "metadata": {},
          "output_type": "display_data"
        },
        {
          "data": {
            "text/plain": [
              "<Figure size 800x600 with 0 Axes>"
            ]
          },
          "metadata": {},
          "output_type": "display_data"
        }
      ],
      "source": [
        "msno.matrix(ccpp_data)\n",
        "plt.figure(figsize = FIG_SIZE)\n",
        "plt.show()\n",
        "# absense of anything in this plot is actually a good thing - data is complete!"
      ]
    },
    {
      "cell_type": "markdown",
      "metadata": {
        "id": "JWaUHt1EsPhh"
      },
      "source": [
        "### Features and target selection"
      ]
    },
    {
      "cell_type": "code",
      "execution_count": 18,
      "metadata": {},
      "outputs": [],
      "source": [
        "# populate data sets\n",
        "def populate_dataset (columns_list):\n",
        "    # we will use all 4 columns as our selected features\n",
        "    X = ccpp_data.drop('PE', axis=1)\n",
        "    if columns_list != None:\n",
        "        X = X.drop(columns_list, axis=1)\n",
        "    # Target variable - the one we want to predict\n",
        "    y = ccpp_data['PE']\n",
        "\n",
        "    return X, y"
      ]
    },
    {
      "cell_type": "code",
      "execution_count": 19,
      "metadata": {},
      "outputs": [],
      "source": [
        "# populate data sets with all features \n",
        "X, y = populate_dataset(columns_list=None)"
      ]
    },
    {
      "cell_type": "code",
      "execution_count": 24,
      "metadata": {},
      "outputs": [],
      "source": [
        "# rebuild train and validation datasets\n",
        "# will assume 70/30 but could be changed later if needs\n",
        "def rebuild_datasets (X, y):\n",
        "    # 70% data for training and 30% data for test\n",
        "    X_train, X_test, y_train, y_test = train_test_split(X, y, test_size=0.3, random_state=42)\n",
        "    return X_train, X_test, y_train, y_test "
      ]
    },
    {
      "cell_type": "markdown",
      "metadata": {},
      "source": [
        "Split the data into training and testing sets"
      ]
    },
    {
      "cell_type": "code",
      "execution_count": 25,
      "metadata": {
        "id": "VABe_kaPsb4y"
      },
      "outputs": [],
      "source": [
        "# 70% data for training and 30% data for test\n",
        "X_train, X_test, y_train, y_test = rebuild_datasets(X, y)"
      ]
    },
    {
      "cell_type": "markdown",
      "metadata": {},
      "source": [
        "Let us see what in each set"
      ]
    },
    {
      "cell_type": "code",
      "execution_count": 26,
      "metadata": {
        "id": "mHir8Hu1sdlb"
      },
      "outputs": [
        {
          "name": "stdout",
          "output_type": "stream",
          "text": [
            "Training\n",
            "                AT            V           AP           RH\n",
            "count  6697.000000  6697.000000  6697.000000  6697.000000\n",
            "mean     19.623823    54.234805  1013.233064    73.348343\n",
            "std       7.418153    12.677564     5.947802    14.644214\n",
            "min       1.810000    25.360000   992.890000    26.300000\n",
            "25%      13.560000    41.740000  1009.070000    63.340000\n",
            "50%      20.340000    51.950000  1012.970000    75.010000\n",
            "75%      25.660000    66.510000  1017.250000    84.880000\n",
            "max      35.560000    81.560000  1033.300000   100.160000\n"
          ]
        }
      ],
      "source": [
        "# training set\n",
        "print(\"Training\")\n",
        "print(X_train.describe(include='all'))"
      ]
    },
    {
      "cell_type": "code",
      "execution_count": 27,
      "metadata": {},
      "outputs": [
        {
          "name": "stdout",
          "output_type": "stream",
          "text": [
            "Evaluation\n",
            "                AT            V           AP           RH\n",
            "count  2871.000000  2871.000000  2871.000000  2871.000000\n",
            "mean     19.715165    54.471418  1013.319760    73.217154\n",
            "std       7.532835    12.779040     5.918284    14.499367\n",
            "min       2.340000    25.360000   993.110000    25.560000\n",
            "25%      13.400000    41.720000  1009.170000    63.210000\n",
            "50%      20.350000    52.840000  1012.900000    74.830000\n",
            "75%      25.910000    66.560000  1017.275000    84.570000\n",
            "max      37.110000    79.740000  1033.250000   100.150000\n"
          ]
        }
      ],
      "source": [
        "# test set\n",
        "print(\"Evaluation\")\n",
        "print(X_test.describe(include='all'))"
      ]
    },
    {
      "cell_type": "markdown",
      "metadata": {},
      "source": [
        "### Setup a method that we can use to validate data and calculate accuracy"
      ]
    },
    {
      "cell_type": "code",
      "execution_count": null,
      "metadata": {},
      "outputs": [],
      "source": [
        "# lets try to predict\n",
        "# Input features for prediction (replace with your own feature values)\n",
        "def prediction (model, drop_columns):\n",
        "    new_data = pd.DataFrame({\n",
        "        'AT': 14.86,\n",
        "        'V': 41.66,\n",
        "        'AP': 1024.06,\n",
        "        'RH': 73.16,\n",
        "    }, index=[0])\n",
        "\n",
        "    if drop_columns != None:\n",
        "        new_data = new_data.drop(drop_columns, axis=1)\n",
        "\n",
        "    # PE's expected output is about\n",
        "    expected_output = 463\n",
        "\n",
        "    # Predict the electrical energy output on the new data\n",
        "    predicted_energy_output = model.predict(new_data)\n",
        "\n",
        "    return predicted_energy_output[0], expected_output"
      ]
    },
    {
      "cell_type": "markdown",
      "metadata": {
        "id": "HKlSM4kishNb"
      },
      "source": [
        "Prepare for training model and capturing experiment info with mlflow\n",
        "\n",
        "MUST start mlflow prior to training the model. Use the following command\n",
        "```mlflow ui```\n",
        "\n",
        "to check that service is running goto\n",
        "http://127.0.0.1:5000\n",
        "\n",
        "Few important points\n",
        "1. mflow is set to autolog for sklearn\n",
        "2. log_models is set to True\n",
        "3. log_datasets is set to True\n",
        "\n",
        "Note: If you use set_tracking_uri(), you should set_experiment() after that."
      ]
    },
    {
      "cell_type": "code",
      "execution_count": null,
      "metadata": {
        "id": "wPRAjIKBsge1"
      },
      "outputs": [],
      "source": [
        "experiment = None\n",
        "\n",
        "# github generated URL - UPDATE\n",
        "mlflow.set_tracking_uri('http://127.0.0.1:5000')\n",
        "experiment_name = 'Training_Logistic_Regression_model_on_CCPP_data'\n",
        "\n",
        "try:\n",
        "    mlflow.set_experiment(experiment_name)\n",
        "except Exception as ex:\n",
        "    # api sometimes might throw an error\n",
        "    print(\"error occured \", ex)\n",
        "\n",
        "try:\n",
        "    experiment = mlflow.get_experiment_by_name(experiment_name)\n",
        "except Exception as ex:\n",
        "    # api sometimes might throw an error\n",
        "    print(\"error occured \", ex)\n",
        "\n",
        "print(f\"Experiment {experiment}\")\n",
        "\n",
        "# enable mlflow autologging\n",
        "mlflow.sklearn.autolog(disable=False,\n",
        "                       log_models=True,\n",
        "                       log_datasets=True,\n",
        "                       registered_model_name=\"CCPP Logistic Regression\",\n",
        "                       )"
      ]
    },
    {
      "cell_type": "markdown",
      "metadata": {
        "id": "injSI1g4s2Yx"
      },
      "source": [
        "Set tags that will be useful for ML runs experiments"
      ]
    },
    {
      "cell_type": "code",
      "execution_count": 28,
      "metadata": {
        "id": "4RTQEWZ3s6m0"
      },
      "outputs": [],
      "source": [
        "# set tags - adding metadata about the model\n",
        "tags = {\"team\": \"Engineering Team Name\",\n",
        "        \"dataset\": \"CCPP model\",\n",
        "        \"release.version\": \"1.2.3\",\n",
        "        \"inputs\": X_train.columns,\n",
        "        \"target\": \"PE\",\n",
        "        \"data_split\":TEST_SIZE}\n",
        "\n",
        "now = datetime.now() # current date and time\n",
        "experiment_date = now.strftime(\"%m/%d/%Y, %H:%M:%S\")"
      ]
    },
    {
      "cell_type": "markdown",
      "metadata": {
        "id": "QVLxvb4ttEzQ"
      },
      "source": [
        "Run our experiment with linear regression model\n",
        "\n",
        "Few points here\n",
        "1. using very basic linear regression model (for simplicity)\n",
        "1. setup run and use datetime stamp or some other unique identifier\n",
        "1. setup multiple experiments - just removing one of the features at a time and record results "
      ]
    },
    {
      "cell_type": "code",
      "execution_count": null,
      "metadata": {
        "id": "ZKnpx4H-tFGa"
      },
      "outputs": [],
      "source": [
        "# will log all the results using mlflow and then compare the results\n",
        "# and select the best model\n",
        "drop_columns = None\n",
        "# start our experiments\n",
        "for i in range (0,4):\n",
        "    # when i = 0 we train model on all features\n",
        "    if i == 1:\n",
        "        # remove AP feature\n",
        "        drop_columns = ['AP']\n",
        "        X, y = populate_dataset(drop_columns)\n",
        "        X_train, X_test, y_train, y_test = rebuild_datasets(X, y)\n",
        "    elif i ==2:\n",
        "        # remove RH and AP\n",
        "        drop_columns = ['AP','RH']\n",
        "        X, y = populate_dataset(drop_columns)\n",
        "        X_train, X_test, y_train, y_test = rebuild_datasets(X, y)\n",
        "    elif i ==3:\n",
        "        # remove V and RH and AP\n",
        "        drop_columns = ['AP','RH','V']\n",
        "        X, y = populate_dataset(drop_columns)\n",
        "        X_train, X_test, y_train, y_test = rebuild_datasets(X, y)\n",
        "\n",
        "    # update tags to reflect\n",
        "    tags.update({\"inputs\": X_train.columns})\n",
        "    \n",
        "    with mlflow.start_run(experiment_id=experiment.experiment_id,\n",
        "                        run_name='linear_regression_exp__' + experiment_date):\n",
        "        # save tags\n",
        "        mlflow.set_tags(tags)\n",
        "        # instantiate model with some hyperparameters\n",
        "        model = LinearRegression(n_jobs=5)\n",
        "        model.fit(X_train, y_train)\n",
        "\n",
        "        # Model Evaluation\n",
        "        y_pred = model.predict(X_test)\n",
        "\n",
        "        # calculate metrics\n",
        "        mae = mean_absolute_error(y_test, y_pred)\n",
        "        mse = mean_squared_error(y_test, y_pred)\n",
        "        rmse = mean_squared_error(y_test, y_pred, squared=False)\n",
        "        r2 = r2_score(y_test, y_pred)\n",
        "\n",
        "        # save metrics for future comparison in MLflow\n",
        "        mlflow.log_metric('mae', mae)\n",
        "        mlflow.log_metric('mse', mse)\n",
        "        mlflow.log_metric('rmse', rmse)\n",
        "\n",
        "        # let calculate prediction and some other intersting metrics\n",
        "        pred, expected = prediction(model, drop_columns)\n",
        "        mlflow.log_metric('prediction', pred)\n",
        "        mlflow.log_metric('expected', expected)\n",
        "        mlflow.log_metric('accuracy', (expected/pred)*100)"
      ]
    },
    {
      "cell_type": "markdown",
      "metadata": {},
      "source": [
        "### Let us take a peak inside\n",
        "\n",
        "We want to take a look at the coefficient and intercept \n",
        "\n",
        "*Intercept*: often denoted as θ₀ or beta₀, represents the value of the predicted target variable when all the input features are set to zero. In a simple linear regression model with one feature, it is equivalent to the y-intercept of the linear equation. In a multiple linear regression model with multiple features, it represents the estimated target variable value when all other input features are zero.\n",
        "\n",
        "*Coefficients*: represent the weights assigned to each input feature in the linear equation. They indicate how much a one-unit change in a particular feature affects the predicted target variable, holding other features constant. Coefficients are often referred to as the \"slopes\" of the linear equation.\n",
        "\n",
        "In summary, the intercept represents the baseline prediction when all features are zero, and the coefficients determine the magnitude and direction of the impact of each feature on the predicted target variable. In the context of linear regression modeling, these parameters are learned during the training process to best fit the observed data."
      ]
    },
    {
      "cell_type": "code",
      "execution_count": null,
      "metadata": {},
      "outputs": [],
      "source": [
        "# The model is now trained, and you can access its parameters\n",
        "# Coefficient (slope) of the linear equation (theta1)\n",
        "theta1 = model.coef_\n",
        "\n",
        "# Intercept of the linear equation (theta0)\n",
        "theta0 = model.intercept_\n",
        "\n",
        "print(\"Trained model parameters associated coefficients with a proper feature\")\n",
        "print(pd.DataFrame({\"Feature\":X_train.columns.tolist(),\"Coefficients\":theta1}))"
      ]
    },
    {
      "cell_type": "markdown",
      "metadata": {
        "id": "-yXRb9MHtpZx"
      },
      "source": [
        "Display metrics collected\n",
        "\n",
        "1. MAE - measures the average absolute difference between the predicted values and the actual values. It gives you a sense of how far off your predictions are from the true values, without considering the direction (overestimation or underestimation).\n",
        "1. MSE - calculates the average of the squared differences between predicted values and actual values. It emphasizes larger errors more than smaller ones due to the squaring.\n",
        "1. RMSE - is the square root of the MSE. It provides a measure of the average magnitude of the errors in the same unit as the dependent variable, making it more interpretable.\n",
        "1. R-squared - also known as the coefficient of determination, measures the proportion of the variance in the dependent variable that is predictable from the independent variables in a regression model. It ranges from 0 to 1, where 1 indicates a perfect fit and 0 indicates no linear relationship.\n",
        "\n",
        "In summary:\n",
        "\n",
        "- MAE focuses on the absolute magnitude of errors.\n",
        "- MSE emphasizes larger errors due to squaring.\n",
        "- RMSE is the square root of MSE, providing a more interpretable metric.\n",
        "- R-squared measures the goodness of fit in regression models, indicating the proportion of variability explained by the model."
      ]
    },
    {
      "cell_type": "code",
      "execution_count": null,
      "metadata": {
        "id": "-Q1_qSTPtsPr"
      },
      "outputs": [],
      "source": [
        "print(f\"MAE: {mae}\")\n",
        "print(f\"MSE: {mse}\")\n",
        "print(f\"RMSE: {rmse}\")\n",
        "print(f\"R-squared: {r2}\")"
      ]
    },
    {
      "cell_type": "markdown",
      "metadata": {
        "id": "x_T0lTBjuAQs"
      },
      "source": [
        "Let us use the model we just trained and predict the output PE using sample data"
      ]
    },
    {
      "cell_type": "code",
      "execution_count": null,
      "metadata": {
        "id": "WxgmaYhSuEjX"
      },
      "outputs": [],
      "source": [
        "# lets try to predict\n",
        "# Input features for prediction (replace with your own feature values)\n",
        "new_data = pd.DataFrame({\n",
        "    'AT': 14.86,\n",
        "    'V': 41.66,\n",
        "    'AP': 1024.06,\n",
        "    'RH': 73.16,\n",
        "}, index=[0])\n",
        "\n",
        "# PE's expected output is about\n",
        "expected_output = 463.26\n",
        "\n",
        "# Predict the electrical energy output on the new data\n",
        "predicted_energy_output = model.predict(new_data)\n",
        "\n",
        "print(f\"Predicted Electrical Energy Output: {predicted_energy_output[0]} and expected {expected_output}. Accuracy of {(expected_output/predicted_energy_output[0])*100}%\")"
      ]
    },
    {
      "cell_type": "markdown",
      "metadata": {
        "id": "VuHhhEcit00p"
      },
      "source": [
        "Visualize predicted vs actual"
      ]
    },
    {
      "cell_type": "code",
      "execution_count": null,
      "metadata": {
        "id": "OPU7SC4Pt0IV"
      },
      "outputs": [],
      "source": [
        "# scatter plot to visualize predicted va actial\n",
        "# note: y_test contains the actual energy output values, and y_pred contains the predicted values\n",
        "\n",
        "plt.figure(figsize = FIG_SIZE)\n",
        "plt.scatter(y_test, y_pred, alpha=0.5)\n",
        "plt.xlabel('Actual Energy Output')\n",
        "plt.ylabel('Predicted Energy Output')\n",
        "plt.title('Actual vs. Predicted Energy Output')\n",
        "plt.grid(True)\n",
        "plt.show()"
      ]
    }
  ],
  "metadata": {
    "colab": {
      "include_colab_link": true,
      "provenance": []
    },
    "kernelspec": {
      "display_name": "Python 3",
      "name": "python3"
    },
    "language_info": {
      "codemirror_mode": {
        "name": "ipython",
        "version": 3
      },
      "file_extension": ".py",
      "mimetype": "text/x-python",
      "name": "python",
      "nbconvert_exporter": "python",
      "pygments_lexer": "ipython3",
      "version": "3.11.5"
    }
  },
  "nbformat": 4,
  "nbformat_minor": 0
}
