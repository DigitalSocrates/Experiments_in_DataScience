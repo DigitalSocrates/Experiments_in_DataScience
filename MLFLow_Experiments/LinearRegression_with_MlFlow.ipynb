{
  "cells": [
    {
      "cell_type": "markdown",
      "metadata": {
        "id": "ZXmIUU1jqwYp"
      },
      "source": [
        "# Experiments with MLflow (training model using Linear Regression)\n",
        "\n",
        "**Readme.md contains additional details - please take a look**"
      ]
    },
    {
      "cell_type": "code",
      "execution_count": null,
      "metadata": {},
      "outputs": [],
      "source": [
        "# install mlflow if its missing \n",
        "!pip install mlflow"
      ]
    },
    {
      "cell_type": "code",
      "execution_count": null,
      "metadata": {
        "id": "Ke-Jjyl0r7c7"
      },
      "outputs": [],
      "source": [
        "# imports\n",
        "import pandas as pd\n",
        "import mlflow.sklearn\n",
        "import missingno as msno\n",
        "import matplotlib.pyplot as plt\n",
        "from datetime import datetime\n",
        "from sklearn.model_selection import train_test_split\n",
        "from sklearn.linear_model import LinearRegression\n",
        "from sklearn.metrics import mean_absolute_error, mean_squared_error, r2_score"
      ]
    },
    {
      "cell_type": "code",
      "execution_count": null,
      "metadata": {},
      "outputs": [],
      "source": [
        "# declare some constants\n",
        "FIG_SIZE=(8, 6)"
      ]
    },
    {
      "cell_type": "markdown",
      "metadata": {},
      "source": [
        "### Loading data\n",
        "\n",
        "You can use stored csv or get data from the source"
      ]
    },
    {
      "cell_type": "code",
      "execution_count": null,
      "metadata": {
        "id": "yay6G5ldsAac"
      },
      "outputs": [],
      "source": [
        "# read data from a local folder raw_ccpp_data = pd.read_csv('MLFLow_Experiments/static/data/CCPP_data.csv')\n",
        "# get data from the source \n",
        "raw_ccpp_data = pd.read_csv('https://storage.googleapis.com/aipi_datasets/CCPP_data.csv',\n",
        "                            skipinitialspace=True)"
      ]
    },
    {
      "cell_type": "code",
      "execution_count": null,
      "metadata": {
        "id": "D-gIMRJGsET7"
      },
      "outputs": [],
      "source": [
        "# let us examine the resulting dataframe\n",
        "raw_ccpp_data.info"
      ]
    },
    {
      "cell_type": "code",
      "execution_count": null,
      "metadata": {
        "id": "fQq6E4oesFve"
      },
      "outputs": [],
      "source": [
        "# display dataframe's summary statistics\n",
        "raw_ccpp_data.describe()"
      ]
    },
    {
      "cell_type": "markdown",
      "metadata": {
        "id": "EjXBtPl8sHM2"
      },
      "source": [
        "### Data cleaning step\n",
        "\n",
        "We want to ensure that data falls with the following specifications\n",
        "- Temperature (T) in the range 1.81°C to 37.11°C\n",
        "- Ambient Pressure (AP) in the range 992.89-1033.30 milibar\n",
        "- Relative Humidity (RH) in the range 25.56% to 100.16%\n",
        "- Exhaust Vacuum (V) in the range 25.36-81.56 cm Hg\n",
        "- Net hourly electrical energy output (PE) 420.26-495.76 MW (Target we are trying to predict)"
      ]
    },
    {
      "cell_type": "code",
      "execution_count": null,
      "metadata": {
        "id": "9BEdhz3VsJzJ"
      },
      "outputs": [],
      "source": [
        "# query the data from raw dataframe and create new data frame\n",
        "ccpp_data = raw_ccpp_data.query('(AT >= 1.81 & AT <= 37.11) &\\\n",
        "                                 (V >= 25.36 & V <= 81.56) &\\\n",
        "                                 (AP >= 992.89 & AP <= 1033.30) &\\\n",
        "                                 (RH >= 25.56 & RH <= 100.16)')"
      ]
    },
    {
      "cell_type": "code",
      "execution_count": null,
      "metadata": {
        "id": "bZlY68mXsNBJ"
      },
      "outputs": [],
      "source": [
        "# display dataframe's summary statistics including all collumns\n",
        "# we can use it to confirm the ranges as outlined above\n",
        "ccpp_data.describe(include='all')"
      ]
    },
    {
      "cell_type": "markdown",
      "metadata": {},
      "source": [
        "### Check for missing data\n",
        "\n",
        "using this helpful utility https://github.com/ResidentMario/missingno\n",
        "\n",
        "```...missingno provides a small toolset of flexible and easy-to-use missing data visualizations and utilities that allows you to get a quick visual summary of the completeness (or lack thereof) of your dataset. Just pip install missingno to get started.```\n",
        "\n",
        "I am using ```msno.matrix``` as per official documentation \"The msno.matrix nullity matrix is a data-dense display which lets you quickly visually pick out patterns in data completion.\" Also take a look at the sparkline on the right as its helpful as well \"The sparkline at right summarizes the general shape of the data completeness and points out the rows with the maximum and minimum nullity in the dataset.\"\n"
      ]
    },
    {
      "cell_type": "code",
      "execution_count": null,
      "metadata": {},
      "outputs": [],
      "source": [
        "msno.matrix(ccpp_data)\n",
        "plt.figure(figsize = FIG_SIZE)\n",
        "plt.show()\n",
        "# absense of anything in this plot is actually a good thing - data is complete!"
      ]
    },
    {
      "cell_type": "markdown",
      "metadata": {
        "id": "JWaUHt1EsPhh"
      },
      "source": [
        "### Features and target selection"
      ]
    },
    {
      "cell_type": "code",
      "execution_count": null,
      "metadata": {
        "id": "9CgIDVGCsRUZ"
      },
      "outputs": [],
      "source": [
        "# we will use all 4 columns as our selected features\n",
        "X = ccpp_data.drop('PE', axis=1)\n",
        "# Target variable - the one we want to predict\n",
        "y = ccpp_data['PE']"
      ]
    },
    {
      "cell_type": "markdown",
      "metadata": {},
      "source": [
        "Split the data into training and testing sets"
      ]
    },
    {
      "cell_type": "code",
      "execution_count": null,
      "metadata": {
        "id": "VABe_kaPsb4y"
      },
      "outputs": [],
      "source": [
        "# 70% data for training and 30% data for test\n",
        "X_train, X_test, y_train, y_test = train_test_split(X, y, test_size=0.3, random_state=42)"
      ]
    },
    {
      "cell_type": "markdown",
      "metadata": {},
      "source": [
        "Let us see what in each set"
      ]
    },
    {
      "cell_type": "code",
      "execution_count": null,
      "metadata": {
        "id": "mHir8Hu1sdlb"
      },
      "outputs": [],
      "source": [
        "# training set\n",
        "print(\"Training\")\n",
        "print(X_train.describe(include='all'))"
      ]
    },
    {
      "cell_type": "code",
      "execution_count": null,
      "metadata": {},
      "outputs": [],
      "source": [
        "# test set\n",
        "print(\"Evaluation\")\n",
        "print(X_test.describe(include='all'))"
      ]
    },
    {
      "cell_type": "markdown",
      "metadata": {
        "id": "HKlSM4kishNb"
      },
      "source": [
        "Prepare for training model and capturing experiment info with mlflow\n",
        "\n",
        "MUST start mlflow prior to training the model. Use the following command\n",
        "```mlflow ui```\n",
        "\n",
        "to check that service is running goto\n",
        "http://127.0.0.1:5000\n",
        "\n",
        "Few important points\n",
        "1. mflow is set to autolog for sklearn\n",
        "2. log_models is set to True\n",
        "3. log_datasets is set to True\n",
        "\n",
        "Note: If you use set_tracking_uri(), you should set_experiment() after that."
      ]
    },
    {
      "cell_type": "code",
      "execution_count": null,
      "metadata": {
        "id": "wPRAjIKBsge1"
      },
      "outputs": [],
      "source": [
        "experiment = None\n",
        "\n",
        "# github generated URL - UPDATE\n",
        "mlflow.set_tracking_uri('http://127.0.0.1:5000')\n",
        "experiment_name = 'Training_Logistic_Regression_model_on_CCPP_data'\n",
        "\n",
        "try:\n",
        "    mlflow.set_experiment(experiment_name)\n",
        "except Exception as ex:\n",
        "    # api sometimes might throw an error\n",
        "    print(\"error occured \", ex)\n",
        "\n",
        "try:\n",
        "    experiment = mlflow.get_experiment_by_name(experiment_name)\n",
        "except Exception as ex:\n",
        "    # api sometimes might throw an error\n",
        "    print(\"error occured \", ex)\n",
        "\n",
        "print(f\"Experiment {experiment}\")\n",
        "\n",
        "# enable mlflow autologging\n",
        "mlflow.sklearn.autolog(disable=False,\n",
        "                       log_models=True,\n",
        "                       log_datasets=True,\n",
        "                       registered_model_name=\"CCPP Logistic Regression\",\n",
        "                       )"
      ]
    },
    {
      "cell_type": "markdown",
      "metadata": {
        "id": "injSI1g4s2Yx"
      },
      "source": [
        "Set tags that will be useful for ML runs experiments"
      ]
    },
    {
      "cell_type": "code",
      "execution_count": null,
      "metadata": {
        "id": "4RTQEWZ3s6m0"
      },
      "outputs": [],
      "source": [
        "# set tags - adding metadata about the model\n",
        "tags = {\"team\": \"Engineering Team Name\",\n",
        "        \"dataset\": \"CCPP model\",\n",
        "        \"release.version\": \"1.2.3\",\n",
        "        \"inputs\": X_train.columns,\n",
        "        \"target\": \"PE\"}\n",
        "\n",
        "now = datetime.now() # current date and time\n",
        "experiment_date = now.strftime(\"%m/%d/%Y, %H:%M:%S\")"
      ]
    },
    {
      "cell_type": "markdown",
      "metadata": {
        "id": "QVLxvb4ttEzQ"
      },
      "source": [
        "Run our experiment with linear regression model\n",
        "\n",
        "Few points here\n",
        "1. setup run and use datetime stamp or some other unique identifier"
      ]
    },
    {
      "cell_type": "code",
      "execution_count": null,
      "metadata": {
        "id": "ZKnpx4H-tFGa"
      },
      "outputs": [],
      "source": [
        "# Using linear regression model\n",
        "with mlflow.start_run(experiment_id=experiment.experiment_id,\n",
        "                      run_name='linear_regression_exp__' + experiment_date):\n",
        "    # save tags\n",
        "    mlflow.set_tags(tags)\n",
        "    # instantiate model with some hyperparameters\n",
        "    model = LinearRegression(n_jobs=5)\n",
        "    model.fit(X_train, y_train)\n",
        "\n",
        "    # Model Evaluation\n",
        "    y_pred = model.predict(X_test)\n",
        "\n",
        "    # calculate metrics\n",
        "    mae = mean_absolute_error(y_test, y_pred)\n",
        "    mse = mean_squared_error(y_test, y_pred)\n",
        "    rmse = mean_squared_error(y_test, y_pred, squared=False)\n",
        "    r2 = r2_score(y_test, y_pred)\n",
        "\n",
        "    # sae the metrics for future comparison in MLflow\n",
        "    mlflow.log_metric('mae', mae)\n",
        "    mlflow.log_metric('mse', mse)\n",
        "    mlflow.log_metric('rmse', rmse)\n",
        "    mlflow.log_metric('r2', r2)"
      ]
    },
    {
      "cell_type": "markdown",
      "metadata": {
        "id": "-yXRb9MHtpZx"
      },
      "source": [
        "Display metrics collected\n",
        "\n",
        "1. MAE - measures the average absolute difference between the predicted values and the actual values. It gives you a sense of how far off your predictions are from the true values, without considering the direction (overestimation or underestimation).\n",
        "1. MSE - calculates the average of the squared differences between predicted values and actual values. It emphasizes larger errors more than smaller ones due to the squaring.\n",
        "1. RMSE - is the square root of the MSE. It provides a measure of the average magnitude of the errors in the same unit as the dependent variable, making it more interpretable.\n",
        "1. R-squared - also known as the coefficient of determination, measures the proportion of the variance in the dependent variable that is predictable from the independent variables in a regression model. It ranges from 0 to 1, where 1 indicates a perfect fit and 0 indicates no linear relationship."
      ]
    },
    {
      "cell_type": "code",
      "execution_count": null,
      "metadata": {
        "id": "-Q1_qSTPtsPr"
      },
      "outputs": [],
      "source": [
        "print(f\"MAE: {mae}\")\n",
        "print(f\"MSE: {mse}\")\n",
        "print(f\"RMSE: {rmse}\")\n",
        "print(f\"R-squared: {r2}\")"
      ]
    },
    {
      "cell_type": "markdown",
      "metadata": {
        "id": "x_T0lTBjuAQs"
      },
      "source": [
        "Let us use the model we just trained and predict the output PE using sample data"
      ]
    },
    {
      "cell_type": "code",
      "execution_count": null,
      "metadata": {
        "id": "WxgmaYhSuEjX"
      },
      "outputs": [],
      "source": [
        "# lets try to predict\n",
        "# Input features for prediction (replace with your own feature values)\n",
        "new_data = pd.DataFrame({\n",
        "    'AT': 14.86,\n",
        "    'V': 41.66,\n",
        "    'AP': 1024.06,\n",
        "    'RH': 73.16,\n",
        "}, index=[0])\n",
        "\n",
        "# PE's expected output is about\n",
        "expected_output = 463.26\n",
        "\n",
        "# Predict the electrical energy output on the new data\n",
        "predicted_energy_output = model.predict(new_data)\n",
        "\n",
        "print(f\"Predicted Electrical Energy Output: {predicted_energy_output[0]} and expected {expected_output}. Accuracy of {(expected_output/predicted_energy_output[0])*100}%\")"
      ]
    },
    {
      "cell_type": "markdown",
      "metadata": {
        "id": "VuHhhEcit00p"
      },
      "source": [
        "Visualize predicted vs actual"
      ]
    },
    {
      "cell_type": "code",
      "execution_count": null,
      "metadata": {
        "id": "OPU7SC4Pt0IV"
      },
      "outputs": [],
      "source": [
        "# scatter plot to visualize predicted va actial\n",
        "# note: y_test contains the actual energy output values, and y_pred contains the predicted values\n",
        "\n",
        "plt.figure(figsize = FIG_SIZE)\n",
        "plt.scatter(y_test, y_pred, alpha=0.5)\n",
        "plt.xlabel('Actual Energy Output')\n",
        "plt.ylabel('Predicted Energy Output')\n",
        "plt.title('Actual vs. Predicted Energy Output')\n",
        "plt.grid(True)\n",
        "plt.show()"
      ]
    }
  ],
  "metadata": {
    "colab": {
      "include_colab_link": true,
      "provenance": []
    },
    "kernelspec": {
      "display_name": "Python 3",
      "name": "python3"
    },
    "language_info": {
      "codemirror_mode": {
        "name": "ipython",
        "version": 3
      },
      "file_extension": ".py",
      "mimetype": "text/x-python",
      "name": "python",
      "nbconvert_exporter": "python",
      "pygments_lexer": "ipython3",
      "version": "3.10.8"
    }
  },
  "nbformat": 4,
  "nbformat_minor": 0
}
