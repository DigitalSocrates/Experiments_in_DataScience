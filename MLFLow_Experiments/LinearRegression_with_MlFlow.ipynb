{
  "cells": [
    {
      "cell_type": "markdown",
      "metadata": {
        "id": "view-in-github",
        "colab_type": "text"
      },
      "source": [
        "<a href=\"https://colab.research.google.com/github/DigitalSocrates/Experiments_in_DataScience/blob/master/MLFLow_Experiments/LinearRegression_with_MlFlow.ipynb\" target=\"_parent\"><img src=\"https://colab.research.google.com/assets/colab-badge.svg\" alt=\"Open In Colab\"/></a>"
      ]
    },
    {
      "cell_type": "markdown",
      "metadata": {
        "id": "ZXmIUU1jqwYp"
      },
      "source": [
        "Logistic Regression model and MLFlow"
      ]
    },
    {
      "cell_type": "code",
      "execution_count": null,
      "metadata": {
        "id": "Ke-Jjyl0r7c7"
      },
      "outputs": [],
      "source": [
        "# imports\n",
        "import pandas as pd\n",
        "from datetime import datetime\n",
        "from sklearn.model_selection import train_test_split\n",
        "from sklearn.linear_model import LinearRegression\n",
        "from sklearn.metrics import mean_absolute_error, mean_squared_error, r2_score"
      ]
    },
    {
      "cell_type": "code",
      "execution_count": null,
      "metadata": {
        "id": "yay6G5ldsAac"
      },
      "outputs": [],
      "source": [
        "# Load the dataset - file is located in the same folder as the notebook\n",
        "raw_ccpp_data = pd.read_csv('CCPP_data.csv')"
      ]
    },
    {
      "cell_type": "code",
      "execution_count": null,
      "metadata": {
        "id": "D-gIMRJGsET7"
      },
      "outputs": [],
      "source": [
        "# let us examine the dataframe\n",
        "raw_ccpp_data.info"
      ]
    },
    {
      "cell_type": "code",
      "execution_count": null,
      "metadata": {
        "id": "fQq6E4oesFve"
      },
      "outputs": [],
      "source": [
        "# summary statistics\n",
        "raw_ccpp_data.describe()"
      ]
    },
    {
      "cell_type": "markdown",
      "metadata": {
        "id": "EjXBtPl8sHM2"
      },
      "source": [
        "We want to check our data for the following\n",
        "- Temperature (T) in the range 1.81°C to 37.11°C,\n",
        "- Ambient Pressure (AP) in the range 992.89-1033.30 milibar,\n",
        "- Relative Humidity (RH) in the range 25.56% to 100.16%\n",
        "- Exhaust Vacuum (V) in the range 25.36-81.56 cm Hg\n",
        "- Net hourly electrical energy output (PE) 420.26-495.76 MW (Target we are trying to predict)"
      ]
    },
    {
      "cell_type": "code",
      "execution_count": null,
      "metadata": {
        "id": "9BEdhz3VsJzJ"
      },
      "outputs": [],
      "source": [
        "# query data and create new data frame\n",
        "ccpp_data = raw_ccpp_data.query('(AT >= 1.81 & AT <= 37.11) & (V >= 25.36 & V <= 81.56) & (AP >= 992.89 & AP <= 1033.30) & (RH >= 25.56 & RH <= 100.16)')"
      ]
    },
    {
      "cell_type": "code",
      "execution_count": null,
      "metadata": {
        "id": "bZlY68mXsNBJ"
      },
      "outputs": [],
      "source": [
        "# summary statistics including all collumns\n",
        "ccpp_data.describe(include='all')"
      ]
    },
    {
      "cell_type": "markdown",
      "metadata": {
        "id": "JWaUHt1EsPhh"
      },
      "source": [
        "Features and target selection"
      ]
    },
    {
      "cell_type": "code",
      "execution_count": null,
      "metadata": {
        "id": "9CgIDVGCsRUZ"
      },
      "outputs": [],
      "source": [
        "X = ccpp_data.drop('PE', axis=1)  # Features\n",
        "y = ccpp_data['PE']  # Target variable"
      ]
    },
    {
      "cell_type": "code",
      "execution_count": null,
      "metadata": {
        "id": "VABe_kaPsb4y"
      },
      "outputs": [],
      "source": [
        "# Split the data into training and testing sets\n",
        "# 70% data for training and 30% data for test\n",
        "X_train, X_test, y_train, y_test = train_test_split(X, y, test_size=0.3, random_state=42)"
      ]
    },
    {
      "cell_type": "code",
      "execution_count": null,
      "metadata": {
        "id": "mHir8Hu1sdlb"
      },
      "outputs": [],
      "source": [
        "# training set\n",
        "print(X_train.describe(include='all'))\n",
        "# test set\n",
        "print(X_test.describe(include='all'))"
      ]
    },
    {
      "cell_type": "markdown",
      "metadata": {
        "id": "HKlSM4kishNb"
      },
      "source": [
        "Prepare for mlflow\n",
        "\n",
        "MUST start mlflow prior to training the model use\n",
        "mlflow ui\n",
        "to check that service is running check\n",
        "http://127.0.0.1:5000\n",
        "\n",
        "Few important points\n",
        "1. mflow is set to autolog for sklearn\n",
        "2. log_models is set to True\n",
        "3. log_datasets is set to True\n",
        "\n",
        "Note: If you use set_tracking_uri(), you should set_experiment() after that."
      ]
    },
    {
      "cell_type": "code",
      "execution_count": null,
      "metadata": {
        "id": "wPRAjIKBsge1"
      },
      "outputs": [],
      "source": [
        "# enable mlflow autologging\n",
        "import mlflow\n",
        "\n",
        "mlflow.set_tracking_uri('http://127.0.0.1:5000')\n",
        "experiment_name = 'Training Logistic Regression model on CCPP data <jira id>'\n",
        "mlflow.set_experiment(experiment_name)\n",
        "experiment = mlflow.get_experiment_by_name(experiment_name)\n",
        "\n",
        "mlflow.sklearn.autolog(disable=False,\n",
        "                       log_models=True,\n",
        "                       log_datasets=True,\n",
        "                       registered_model_name=\"CCPP Logistic Regression\",\n",
        "                       )"
      ]
    },
    {
      "cell_type": "markdown",
      "metadata": {
        "id": "injSI1g4s2Yx"
      },
      "source": [
        "Set tags that will be useful for ML runs experiments"
      ]
    },
    {
      "cell_type": "code",
      "execution_count": null,
      "metadata": {
        "id": "4RTQEWZ3s6m0"
      },
      "outputs": [],
      "source": [
        "# set tags - adding metadata about the model\n",
        "tags = {\"team\": \"Engineering Team Name\",\n",
        "        \"dataset\": \"CCPP model\",\n",
        "        \"release.version\": \"1.2.3\",\n",
        "        \"inputs\": X_train.columns,\n",
        "        \"target\": \"PE\"}\n",
        "\n",
        "now = datetime.now() # current date and time\n",
        "experiment_date = now.strftime(\"%m/%d/%Y, %H:%M:%S\")"
      ]
    },
    {
      "cell_type": "markdown",
      "metadata": {
        "id": "QVLxvb4ttEzQ"
      },
      "source": [
        "Run our first experiment with linear regression model\n",
        "\n",
        "Few points here\n",
        "1. setup run and use datetime stamp or use some other unique identifier"
      ]
    },
    {
      "cell_type": "code",
      "execution_count": null,
      "metadata": {
        "id": "ZKnpx4H-tFGa"
      },
      "outputs": [],
      "source": [
        "# Using linear regression model\n",
        "with mlflow.start_run(experiment_id=experiment.experiment_id,\n",
        "                      run_name='linear_regression_exp__' + experiment_date):\n",
        "    mlflow.set_tags(tags)\n",
        "    model = LinearRegression(n_jobs=5)\n",
        "    model.fit(X_train, y_train)\n",
        "\n",
        "    # Model Evaluation\n",
        "    y_pred = model.predict(X_test)\n",
        "\n",
        "    # calculate different metrics\n",
        "    mae = mean_absolute_error(y_test, y_pred)\n",
        "    mse = mean_squared_error(y_test, y_pred)\n",
        "    rmse = mean_squared_error(y_test, y_pred, squared=False)\n",
        "    r2 = r2_score(y_test, y_pred)\n",
        "\n",
        "    mlflow.log_metric('mae', mae)\n",
        "    mlflow.log_metric('mse', mse)\n",
        "    mlflow.log_metric('rmse', rmse)\n",
        "    mlflow.log_metric('r2', r2)"
      ]
    },
    {
      "cell_type": "markdown",
      "metadata": {
        "id": "-yXRb9MHtpZx"
      },
      "source": [
        "Display metrics collected\n",
        "\n",
        "TODO: need to add explanation for each here"
      ]
    },
    {
      "cell_type": "code",
      "execution_count": null,
      "metadata": {
        "id": "-Q1_qSTPtsPr"
      },
      "outputs": [],
      "source": [
        "print(f\"MAE: {mae}\")\n",
        "print(f\"MSE: {mse}\")\n",
        "print(f\"RMSE: {rmse}\")\n",
        "print(f\"R-squared: {r2}\")"
      ]
    },
    {
      "cell_type": "markdown",
      "metadata": {
        "id": "x_T0lTBjuAQs"
      },
      "source": [
        "Using model to predict"
      ]
    },
    {
      "cell_type": "code",
      "execution_count": null,
      "metadata": {
        "id": "WxgmaYhSuEjX"
      },
      "outputs": [],
      "source": [
        "# lets try to predict\n",
        "# Input features for prediction (replace with your own feature values)\n",
        "new_data = pd.DataFrame({\n",
        "    'AT': 14.96,\n",
        "    'V': 41.76,\n",
        "    'AP': 1024.07,\n",
        "    'RH': 73.17,\n",
        "}, index=[0])\n",
        "\n",
        "# PE\n",
        "expected_output = 463.26\n",
        "\n",
        "# Predict the electrical energy output for the new data\n",
        "predicted_energy_output = model.predict(new_data)\n",
        "\n",
        "print(f\"Predicted Electrical Energy Output: {predicted_energy_output[0]} and expected {expected_output}. Accuracy of {(expected_output/predicted_energy_output[0])*100}%\")"
      ]
    },
    {
      "cell_type": "markdown",
      "metadata": {
        "id": "VuHhhEcit00p"
      },
      "source": [
        "Visualize predicted vs actual"
      ]
    },
    {
      "cell_type": "code",
      "execution_count": null,
      "metadata": {
        "id": "OPU7SC4Pt0IV"
      },
      "outputs": [],
      "source": [
        "import matplotlib.pyplot as plt\n",
        "\n",
        "# scatter plot to visualize predicted va actial\n",
        "# note: y_test contains the actual energy output values, and y_pred contains the predicted values\n",
        "\n",
        "plt.figure(figsize=(8, 6))\n",
        "plt.scatter(y_test, y_pred, alpha=0.5)\n",
        "plt.xlabel('Actual Energy Output')\n",
        "plt.ylabel('Predicted Energy Output')\n",
        "plt.title('Actual vs. Predicted Energy Output')\n",
        "plt.grid(True)\n",
        "plt.show()"
      ]
    }
  ],
  "metadata": {
    "colab": {
      "provenance": [],
      "include_colab_link": true
    },
    "kernelspec": {
      "display_name": "Python 3",
      "name": "python3"
    },
    "language_info": {
      "name": "python"
    }
  },
  "nbformat": 4,
  "nbformat_minor": 0
}