{
 "cells": [
  {
   "cell_type": "markdown",
   "metadata": {},
   "source": [
    "# Data Quality Experiments\n",
    "\n",
    "Let us peak inside a dataset and see what we find out.\n",
    "\n",
    "We will be looking for the following:\n",
    "\n",
    "1. Completeness:\n",
    "Completeness refers to how much information is available for all entities within your dataset. It assesses whether there are any missing values in your data. A higher level of completeness indicates that there are fewer missing values, ensuring that your dataset contains a comprehensive representation of the entities it describes. To evaluate completeness, you can count the number of missing values for each attribute or entity.\n",
    "\n",
    "1. Consistency:\n",
    "Consistency measures how uniform and consistent your data is throughout the dataset. It involves identifying and quantifying the number of inconsistencies or discrepancies within your data. These inconsistencies could include variations in data formats, naming conventions, or conflicting information. Maintaining data consistency is crucial for reliable analysis and reporting.\n",
    "\n",
    "1. Accuracy:\n",
    "Accuracy assesses how correct and error-free your data is. It involves identifying and counting the number of errors within your dataset. Errors could be typographical, computational, or factual inaccuracies. Accurate data is essential for making informed decisions and avoiding misleading conclusions.\n",
    "\n",
    "1. Relevancy/Auditability:\n",
    "Relevancy or auditability focuses on the presence of relevant data within your dataset. It involves evaluating the number of irrelevant values or records that do not contribute to the goals of your analysis or business needs. Ensuring that your dataset contains only pertinent information enhances its usability and effectiveness.\n",
    "\n",
    "1. Validity:\n",
    "Validity checks whether the data in your dataset adheres to predefined rules or allowable values. It involves validating data against established constraints or criteria to ensure that it meets quality standards. Valid data is trustworthy and conforms to expected norms, reducing the risk of using incorrect or invalid information.\n",
    "\n",
    "1. Uniqueness:\n",
    "Uniqueness measures how many duplicate values or records exist within your dataset. It is essential to identify and eliminate duplicates, as they can skew analysis results and waste storage resources. Maintaining data uniqueness ensures that each entity or data point is represented only once.\n",
    "\n",
    "1. Timeliness:\n",
    "Timeliness assesses how up-to-date your data is. It involves determining whether the data has been regularly updated to reflect the current state of the entities it describes. Timely data is critical for making decisions based on current information, especially in dynamic environments where data can quickly become outdated.\n",
    "\n",
    "Evaluating these data quality dimensions is essential for ensuring that your dataset is reliable, accurate, and suitable for your intended purposes. It helps in making informed decisions, conducting meaningful analyses, and maintaining data integrity over time."
   ]
  },
  {
   "cell_type": "code",
   "execution_count": 1,
   "metadata": {},
   "outputs": [],
   "source": [
    "# imports\n",
    "# pandas library for i/o and dataframes \n",
    "import pandas as pd\n",
    "import missingno as msno\n",
    "import matplotlib.pyplot as plt\n",
    "\n",
    "# get some utils\n",
    "from v1.utils import calculate_decimal_point as cdp"
   ]
  },
  {
   "cell_type": "code",
   "execution_count": 2,
   "metadata": {},
   "outputs": [],
   "source": [
    "# declare some constants\n",
    "FIG_SIZE=(8, 6)\n",
    "\n",
    "# expected rows\n",
    "ROWS_EXPECTED = 9568\n",
    "\n",
    "# expected dataset shape\n",
    "EXPECTED_SHAPE = (9568, 5)\n",
    "\n",
    "# expected columns\n",
    "EXPECTED_COLUMNS = {'AT', 'V', 'AP', 'RH', 'PE'}\n",
    "\n",
    "# expected decimals\n",
    "EXPECTED_DECIMALS = 2"
   ]
  },
  {
   "cell_type": "markdown",
   "metadata": {},
   "source": [
    "## Loading data \n",
    "\n",
    "We will use a CCPP data. Here is what we know about the data falls with the following specifications\n",
    "source: https://archive.ics.uci.edu/dataset/294/combined+cycle+power+plant\n",
    "\n",
    "All of this information will be used to help us validate the dataset!\n",
    "\n",
    "See image below for more details."
   ]
  },
  {
   "cell_type": "markdown",
   "metadata": {},
   "source": [
    "![Alt text](static/combined+cycle+power+plant_Dataset.png)"
   ]
  },
  {
   "cell_type": "markdown",
   "metadata": {},
   "source": [
    "![Alt text](image.png)"
   ]
  },
  {
   "cell_type": "markdown",
   "metadata": {},
   "source": [
    "### Few important things of Note:\n",
    "\n",
    "1. The data we have - are averaged!\n",
    "1. The variables are given without normalization\n",
    "\n",
    "So keep this in mind for when you design your experiment or model."
   ]
  },
  {
   "cell_type": "code",
   "execution_count": 3,
   "metadata": {},
   "outputs": [],
   "source": [
    "# get data from the source\n",
    "try:\n",
    "    raw_ccpp_data = pd.read_csv('https://storage.googleapis.com/aipi_datasets/CCPP_data.csv',\n",
    "                                skipinitialspace=True)\n",
    "except Exception as ex:\n",
    "    print(f'Was able to download source data -> {ex}')"
   ]
  },
  {
   "cell_type": "markdown",
   "metadata": {},
   "source": [
    "## Exploring Our Data\n",
    "\n",
    "Examine the dataset's dimensions.\n",
    "Retrieve a list of columns.\n",
    "Utilize the describe() function for insights"
   ]
  },
  {
   "cell_type": "code",
   "execution_count": 4,
   "metadata": {},
   "outputs": [
    {
     "name": "stdout",
     "output_type": "stream",
     "text": [
      "All columns present\n"
     ]
    }
   ],
   "source": [
    "# let us check that our dataset contains expected columns \n",
    "if EXPECTED_COLUMNS.issubset(raw_ccpp_data.columns):\n",
    "    print('All columns present')\n",
    "else:\n",
    "    print ('Missing column detected')"
   ]
  },
  {
   "cell_type": "code",
   "execution_count": 5,
   "metadata": {},
   "outputs": [
    {
     "name": "stdout",
     "output_type": "stream",
     "text": [
      "Data shape as expected\n"
     ]
    }
   ],
   "source": [
    "# we can also check a shape\n",
    "if raw_ccpp_data.shape != EXPECTED_SHAPE:\n",
    "    print(f'Dataset shape is not expected. Expecte {EXPECTED_SHAPE} but retrieved {raw_ccpp_data.shape}')\n",
    "else:\n",
    "    print('Data shape as expected')"
   ]
  },
  {
   "cell_type": "code",
   "execution_count": 6,
   "metadata": {},
   "outputs": [
    {
     "name": "stdout",
     "output_type": "stream",
     "text": [
      "<class 'pandas.core.frame.DataFrame'>\n",
      "RangeIndex: 9568 entries, 0 to 9567\n",
      "Data columns (total 5 columns):\n",
      " #   Column  Non-Null Count  Dtype  \n",
      "---  ------  --------------  -----  \n",
      " 0   AT      9568 non-null   float64\n",
      " 1   V       9568 non-null   float64\n",
      " 2   AP      9568 non-null   float64\n",
      " 3   RH      9568 non-null   float64\n",
      " 4   PE      9568 non-null   float64\n",
      "dtypes: float64(5)\n",
      "memory usage: 373.9 KB\n"
     ]
    }
   ],
   "source": [
    "# Display columns of dataset\n",
    "# note if you need only columns list use this -> raw_ccpp_data.columns\n",
    "raw_ccpp_data.info()"
   ]
  },
  {
   "cell_type": "code",
   "execution_count": 7,
   "metadata": {},
   "outputs": [
    {
     "data": {
      "text/html": [
       "<div>\n",
       "<style scoped>\n",
       "    .dataframe tbody tr th:only-of-type {\n",
       "        vertical-align: middle;\n",
       "    }\n",
       "\n",
       "    .dataframe tbody tr th {\n",
       "        vertical-align: top;\n",
       "    }\n",
       "\n",
       "    .dataframe thead th {\n",
       "        text-align: right;\n",
       "    }\n",
       "</style>\n",
       "<table border=\"1\" class=\"dataframe\">\n",
       "  <thead>\n",
       "    <tr style=\"text-align: right;\">\n",
       "      <th></th>\n",
       "      <th>AT</th>\n",
       "      <th>V</th>\n",
       "      <th>AP</th>\n",
       "      <th>RH</th>\n",
       "      <th>PE</th>\n",
       "    </tr>\n",
       "  </thead>\n",
       "  <tbody>\n",
       "    <tr>\n",
       "      <th>count</th>\n",
       "      <td>9568.000000</td>\n",
       "      <td>9568.000000</td>\n",
       "      <td>9568.000000</td>\n",
       "      <td>9568.000000</td>\n",
       "      <td>9568.000000</td>\n",
       "    </tr>\n",
       "    <tr>\n",
       "      <th>mean</th>\n",
       "      <td>19.651231</td>\n",
       "      <td>54.305804</td>\n",
       "      <td>1013.259078</td>\n",
       "      <td>73.308978</td>\n",
       "      <td>454.365009</td>\n",
       "    </tr>\n",
       "    <tr>\n",
       "      <th>std</th>\n",
       "      <td>7.452473</td>\n",
       "      <td>12.707893</td>\n",
       "      <td>5.938784</td>\n",
       "      <td>14.600269</td>\n",
       "      <td>17.066995</td>\n",
       "    </tr>\n",
       "    <tr>\n",
       "      <th>min</th>\n",
       "      <td>1.810000</td>\n",
       "      <td>25.360000</td>\n",
       "      <td>992.890000</td>\n",
       "      <td>25.560000</td>\n",
       "      <td>420.260000</td>\n",
       "    </tr>\n",
       "    <tr>\n",
       "      <th>25%</th>\n",
       "      <td>13.510000</td>\n",
       "      <td>41.740000</td>\n",
       "      <td>1009.100000</td>\n",
       "      <td>63.327500</td>\n",
       "      <td>439.750000</td>\n",
       "    </tr>\n",
       "    <tr>\n",
       "      <th>50%</th>\n",
       "      <td>20.345000</td>\n",
       "      <td>52.080000</td>\n",
       "      <td>1012.940000</td>\n",
       "      <td>74.975000</td>\n",
       "      <td>451.550000</td>\n",
       "    </tr>\n",
       "    <tr>\n",
       "      <th>75%</th>\n",
       "      <td>25.720000</td>\n",
       "      <td>66.540000</td>\n",
       "      <td>1017.260000</td>\n",
       "      <td>84.830000</td>\n",
       "      <td>468.430000</td>\n",
       "    </tr>\n",
       "    <tr>\n",
       "      <th>max</th>\n",
       "      <td>37.110000</td>\n",
       "      <td>81.560000</td>\n",
       "      <td>1033.300000</td>\n",
       "      <td>100.160000</td>\n",
       "      <td>495.760000</td>\n",
       "    </tr>\n",
       "  </tbody>\n",
       "</table>\n",
       "</div>"
      ],
      "text/plain": [
       "                AT            V           AP           RH           PE\n",
       "count  9568.000000  9568.000000  9568.000000  9568.000000  9568.000000\n",
       "mean     19.651231    54.305804  1013.259078    73.308978   454.365009\n",
       "std       7.452473    12.707893     5.938784    14.600269    17.066995\n",
       "min       1.810000    25.360000   992.890000    25.560000   420.260000\n",
       "25%      13.510000    41.740000  1009.100000    63.327500   439.750000\n",
       "50%      20.345000    52.080000  1012.940000    74.975000   451.550000\n",
       "75%      25.720000    66.540000  1017.260000    84.830000   468.430000\n",
       "max      37.110000    81.560000  1033.300000   100.160000   495.760000"
      ]
     },
     "execution_count": 7,
     "metadata": {},
     "output_type": "execute_result"
    }
   ],
   "source": [
    "# Compute summary statistics to get a better understanding of the data.\n",
    "raw_ccpp_data.describe()"
   ]
  },
  {
   "cell_type": "markdown",
   "metadata": {},
   "source": [
    "## Identifying and Retaining Relevant Columns\n",
    "\n",
    "In most cases, it's essential to assess whether there are any columns that should be dropped from our dataset due to their irrelevance to our task. However, it's worth noting that, in this particular scenario, we intend to retain all the columns, as they are deemed pertinent for our analysis."
   ]
  },
  {
   "cell_type": "code",
   "execution_count": null,
   "metadata": {},
   "outputs": [],
   "source": [
    "# Drop irrelevant columns (modify this based on your assessment)\n",
    "# raw_ccpp_data = raw_ccpp_data.drop(['Irrelevant_Column1', 'Irrelevant_Column2'], axis=1)"
   ]
  },
  {
   "cell_type": "markdown",
   "metadata": {},
   "source": [
    "## Assessing Data Completeness\n",
    "\n",
    "Our initial step involves a straightforward procedure: we will conduct a Count operation to determine the quantity of missing values present in each column of the dataset.\n",
    "\n",
    "It's essential to emphasize that this step is crucial in verifying compliance with the dataset specifications, as our goal is to confirm the absence of any missing data."
   ]
  },
  {
   "cell_type": "code",
   "execution_count": 8,
   "metadata": {},
   "outputs": [
    {
     "name": "stdout",
     "output_type": "stream",
     "text": [
      "Data complete\n"
     ]
    }
   ],
   "source": [
    "# set overall flag\n",
    "failed = False\n",
    "\n",
    "# let us check for nulls\n",
    "completeness = raw_ccpp_data.isnull().sum()\n",
    "\n",
    "# check each column\n",
    "for column in completeness:\n",
    "    if column > 0:\n",
    "        failed = True\n",
    "        print(f'missing data detected in column {column}')\n",
    "\n",
    "\n",
    "# display overall result\n",
    "if failed:\n",
    "    print('Missing data detected. Please review previous message(s)')\n",
    "else:\n",
    "    print('Data is complete')"
   ]
  },
  {
   "cell_type": "markdown",
   "metadata": {},
   "source": [
    "We can also use missingno to take a look at our dataset\n",
    "\n",
    "The \"missingno\" library provides a set of tools for visualizing and working with missing data in a dataset. It's particularly helpful for identifying and visualizing missing values in a dataset, which can be crucial for data quality assessment and data cleaning.\n",
    "\n",
    "Once you've imported \"missingno\" with the alias \"msno,\" you can use its functions and capabilities by prefixing them with \"msno.\" For example, you can use ```msno.matrix(raw_ccpp_data)``` to create a matrix plot that visualizes missing values in your dataset.\n",
    "\n",
    "In the example below, ```msno.matrix(raw_ccpp_data)``` creates a visual representation of missing values in the DataFrame \"df.\" This can be useful for quickly identifying which columns or rows have missing data in your dataset.\n",
    "\n",
    "In opur case absense of anything in this plot is actually a good thing - data is complete!"
   ]
  },
  {
   "cell_type": "code",
   "execution_count": 9,
   "metadata": {},
   "outputs": [
    {
     "data": {
      "image/png": "[encoded data removed]",
      "text/plain": [
       "<Figure size 2500x1000 with 2 Axes>"
      ]
     },
     "metadata": {},
     "output_type": "display_data"
    },
    {
     "data": {
      "text/plain": [
       "<Figure size 800x600 with 0 Axes>"
      ]
     },
     "metadata": {},
     "output_type": "display_data"
    }
   ],
   "source": [
    "msno.matrix(raw_ccpp_data)\n",
    "plt.figure(figsize = FIG_SIZE)\n",
    "plt.show()"
   ]
  },
  {
   "cell_type": "markdown",
   "metadata": {},
   "source": [
    "## Ensuring Data Consistency\n",
    "\n",
    "We will perform several checks:\n",
    "\n",
    "1. Numeric Precision: We anticipate that all numeric columns should maintain a uniform precision of two decimal places.\n",
    "1. Date Format Verification: We will validate that date entries adhere to the MM/DD/YYYY format to ensure consistent date representation.\n",
    "1. Timezone Alignment: Another aspect of our consistency check involves confirming that timezones within the dataset align appropriately to avoid any discrepancies.\n",
    "1. Boolean Conformity: For boolean values, we will verify that they are expressed as 'True' or 'False,' rather than as '0' or '1,' in accordance with our data standards.\"\n",
    "1. Other\n",
    "    1. for example check that state is the same WA vs Washington vs washington"
   ]
  },
  {
   "cell_type": "code",
   "execution_count": 10,
   "metadata": {},
   "outputs": [],
   "source": [
    "# check AT column\n",
    "consistency_AT = pd.to_numeric(raw_ccpp_data['AT'], errors='coerce').notnull().all()\n",
    "if consistency_AT != True:\n",
    "    print(f'Detected unexpected non-numeric values in AT column')\n",
    "\n",
    "# check V column\n",
    "consistency_V = pd.to_numeric(raw_ccpp_data['V'], errors='coerce').notnull().all()\n",
    "if consistency_V != True:\n",
    "    print(f'Detected unexpected non-numeric values in V column')\n",
    "\n",
    "# check AP column\n",
    "consistency_AP = pd.to_numeric(raw_ccpp_data['AP'], errors='coerce').notnull().all()\n",
    "if consistency_AP != True:\n",
    "    print(f'Detected unexpected non-numeric values in AP column')\n",
    "\n",
    "# check RH column\n",
    "consistency_RH = pd.to_numeric(raw_ccpp_data['RH'], errors='coerce').notnull().all()\n",
    "if consistency_RH != True:\n",
    "    print(f'Detected unexpected non-numeric values in RH column')\n",
    "\n",
    "# check PE column\n",
    "consistency_PE = pd.to_numeric(raw_ccpp_data['PE'], errors='coerce').notnull().all()\n",
    "if consistency_PE != True:\n",
    "    print(f'Detected unexpected non-numeric values in PE column')"
   ]
  },
  {
   "cell_type": "markdown",
   "metadata": {},
   "source": [
    "### Verifying Decimal Precision\n",
    "\n",
    "Our primary objective in this step is to ensure that all numerical values conform to a specific format, specifically: 123456.##. To accomplish this, we will scrutinize each numeric entry in the dataset, confirming that they consistently exhibit two decimal places. This meticulous examination is crucial for maintaining data uniformity and precision, ensuring that our numerical data aligns with our established standards."
   ]
  },
  {
   "cell_type": "code",
   "execution_count": 12,
   "metadata": {},
   "outputs": [],
   "source": [
    "# checking AT column\n",
    "decimals_AT = raw_ccpp_data['AT'].apply(lambda x: cdp(x)).max()\n",
    "if decimals_AT != EXPECTED_DECIMALS:\n",
    "    print(f'Expected {EXPECTED_DECIMALS} decimal points but received {decimals_AT}')\n",
    "\n",
    "# checking V column\n",
    "decimals_V = raw_ccpp_data['V'].apply(lambda x: cdp(x)).max()\n",
    "if decimals_V != EXPECTED_DECIMALS:\n",
    "    print(f'Expected {EXPECTED_DECIMALS} decimal points but received {decimals_V}')\n",
    "\n",
    "# checking AP column\n",
    "decimals_AP = raw_ccpp_data['AP'].apply(lambda x: cdp(x)).max()\n",
    "if decimals_AP != EXPECTED_DECIMALS:\n",
    "    print(f'Expected {EXPECTED_DECIMALS} decimal points but received {decimals_AP}')\n",
    "\n",
    "# checking RH column\n",
    "decimals_RH = raw_ccpp_data['RH'].apply(lambda x: cdp(x)).max()\n",
    "if decimals_RH != EXPECTED_DECIMALS:\n",
    "    print(f'Expected {EXPECTED_DECIMALS} decimal points but received {decimals_RH}')\n",
    "\n",
    "# checking PE column\n",
    "decimals_PE = raw_ccpp_data['PE'].apply(lambda x: cdp(x)).max()\n",
    "if decimals_PE != EXPECTED_DECIMALS:\n",
    "    print(f'Expected {EXPECTED_DECIMALS} decimal points but received {decimals_PE}')"
   ]
  },
  {
   "cell_type": "markdown",
   "metadata": {},
   "source": [
    "## Data Accuracy\n",
    "\n",
    "Thoroughly inspect and validate that the data conforms to the predetermined ranges and boundaries established for its proper functioning and meaningful interpretation. This process involves meticulous examination to confirm that each data point aligns precisely with the specified criteria, ensuring data integrity and reliability.\n",
    "\n",
    "This data validation procedure is vital for a variety of applications, including quality control, statistical analysis, and database management. It serves as a safeguard against errors, outliers, and potential data corruption, thereby facilitating informed decision-making and preventing unintended consequences arising from inaccuracies or discrepancies.\n",
    "\n",
    "The meticulous scrutiny involves not only checking the immediate values but also considering the context and dependencies within the dataset. Any deviations from the prescribed ranges may necessitate corrective actions or further investigation to maintain data consistency and accuracy. In essence, ensuring that data falls within specified ranges is a fundamental step in upholding data quality and facilitating its meaningful utilization.\n",
    "\n",
    "Note: we really not sure about any interdependencies so will skip the last part"
   ]
  },
  {
   "cell_type": "code",
   "execution_count": 13,
   "metadata": {},
   "outputs": [],
   "source": [
    "# check AT column\n",
    "accuracy_AT = raw_ccpp_data[['AT']].query('(AT >= 1.81 & AT <= 37.11)')\n",
    "if accuracy_AT.shape[0] != ROWS_EXPECTED:\n",
    "    print(f'Detected {accuracy_AT.shape[0] - ROWS_EXPECTED} values in AT column that are outside of the specified range')\n",
    "\n",
    "# check V column\n",
    "accuracy_V = raw_ccpp_data[['V']].query('(V >= 25.36 & V <= 81.56)')\n",
    "if accuracy_V.shape[0] != ROWS_EXPECTED:\n",
    "    print(f'Detected {accuracy_V.shape[0] - ROWS_EXPECTED} values in V column that are outside of the specified range')\n",
    "\n",
    "# check AP column\n",
    "accuracy_AP = raw_ccpp_data[['AP']].query('(AP >= 992.89 & AP <= 1033.30)')\n",
    "if accuracy_AP.shape[0] != ROWS_EXPECTED:\n",
    "    print(f'Detected {accuracy_AP.shape[0] - ROWS_EXPECTED} values in AP column that are outside of the specified range')\n",
    "\n",
    "# check RH column\n",
    "accuracy_RH = raw_ccpp_data[['RH']].query('(RH >= 25.56 & RH <= 100.16)')\n",
    "if accuracy_RH.shape[0] != ROWS_EXPECTED:\n",
    "    print(f'Detected {accuracy_RH.shape[0] - ROWS_EXPECTED} values in RH column that are outside of the specified range')\n",
    "\n",
    "# check PE column\n",
    "accuracy_PE = raw_ccpp_data[['PE']].query('(PE >= 420.26 & PE <= 495.76)')\n",
    "if accuracy_PE.shape[0] != ROWS_EXPECTED:\n",
    "    print(f'Detected {accuracy_PE.shape[0] - ROWS_EXPECTED} values in PE column that are outside of the specified range')"
   ]
  },
  {
   "cell_type": "markdown",
   "metadata": {},
   "source": [
    "## Relevancy/Auditability\n",
    "\n",
    "Now, we venture into the realm of subject matter expertise (SME), requiring a profound comprehension of the data before embarking on rigorous data quality assessments.\n",
    "\n",
    "In this phase, the focus shifts towards discerning the relevance and auditability of the data. It entails a comprehensive exploration of the dataset's intricacies and nuances to ascertain its alignment with the specific objectives and context in which it will be utilized. Here, subject matter experts play a pivotal role, bringing their deep domain knowledge to the fore.\n",
    "\n",
    "To determine relevance, one must carefully evaluate whether the data at hand addresses the key questions or issues that prompted its collection. This involves not only considering the variables and attributes but also understanding how they interrelate and influence the overarching goals of the analysis.\n",
    "\n",
    "Moreover, auditability comes into play, emphasizing the necessity of establishing a robust trail of data lineage, transformations, and processing steps. An auditable dataset ensures that every data point can be traced back to its source and that any transformations or manipulations are well-documented and transparent. This is essential for maintaining data integrity, regulatory compliance, and for building trust in the data's credibility.\n",
    "\n",
    "During this phase, experts delve into the intricacies of the data, gaining insights into potential biases, anomalies, or limitations that may impact its usability. They may also identify data gaps that need to be addressed for a more comprehensive analysis. Consequently, subject matter expertise is invaluable in guiding the subsequent data quality tests and in tailoring them to the unique characteristics and demands of the dataset, ensuring that the data is not only accurate but also relevant and auditable for the intended purpose."
   ]
  },
  {
   "cell_type": "code",
   "execution_count": null,
   "metadata": {},
   "outputs": [],
   "source": [
    "#\n",
    "\n",
    "pass"
   ]
  },
  {
   "cell_type": "markdown",
   "metadata": {},
   "source": [
    "## Validity\n",
    "\n",
    "As with previous considerations around *Relevancy/Auditability*, the assessment of data validity necessitates an deep familiarity with the dataset, coupled with a profound understanding of the expected values and their significance.\n",
    "\n",
    "Data validity, in essence, is the determination of how well the data aligns with the predefined criteria or standards. To carry out this assessment effectively, one must possess a keen insight into the intricacies of the data, backed by a comprehensive comprehension of the anticipated values within it.\n",
    "\n",
    "This process extends beyond merely confirming the data's existence; it delves into evaluating whether the data accurately represents the real-world entities or phenomena it is intended to capture. This often involves examining the data against a set of established rules, constraints, or expectations. It is at this juncture that subject matter expertise and contextual knowledge are paramount.\n",
    "\n",
    "A deep understanding of expected values allows data professionals to discern whether the data points fall within the permissible ranges or adhere to the anticipated patterns. Any deviations from these expectations may raise questions about the data's validity. Such anomalies could stem from errors in data collection, transmission, or processing, and may require further investigation or corrective actions to rectify.\n",
    "\n",
    "Furthermore, understanding the expected values aids in the identification of outliers or anomalies that might not be immediately evident but can have significant implications for data analysis and decision-making. These outliers, if left unaddressed, could skew results and lead to inaccurate conclusions.\n",
    "\n",
    "In summary, validating data requires more than just a cursory review; it necessitates a deep and nuanced grasp of the data's expected values and a discerning eye for anomalies, ensuring that the data maintains its integrity and utility for its intended purpose."
   ]
  },
  {
   "cell_type": "code",
   "execution_count": null,
   "metadata": {},
   "outputs": [],
   "source": [
    "# example \n",
    "# validity = raw_ccpp_data[raw_ccpp_data['?'] <= 0]\n",
    "pass"
   ]
  },
  {
   "cell_type": "markdown",
   "metadata": {},
   "source": [
    "# Uniqueness\n",
    "\n",
    "As if there is introduced a duplicate value somewhere if that is unexpected. \n",
    "\n",
    "Note presence of the duplicate values does not means that you have an issue with your dataset. "
   ]
  },
  {
   "cell_type": "code",
   "execution_count": null,
   "metadata": {},
   "outputs": [],
   "source": [
    "raw_ccpp_data = raw_ccpp_data.append({'Product_ID': 101, 'Product_Name': 'Widget A', 'Price': 10.99, 'Stock_Level': 100, 'Last_Update': '2023-09-01', 'Supplier': 'Supplier X'}, ignore_index=True)"
   ]
  },
  {
   "cell_type": "markdown",
   "metadata": {},
   "source": [
    "# Timeliness\n",
    "\n",
    "We also would want ot check that the data is from 2006 but really can not do it with the current dataset and would have to take on believe that its correct\n",
    "\n",
    "But here is an example:\n",
    "Check if the last update date is up-to-date (within the last week)\n",
    "\n",
    "```from datetime import datetime\n",
    "today = datetime.strptime('2023-09-10', '%Y-%m-%d')\n",
    "timeliness = df[(today - pd.to_datetime(df['Last_Update'])).dt.days > 7]\n",
    "```"
   ]
  },
  {
   "cell_type": "code",
   "execution_count": null,
   "metadata": {},
   "outputs": [],
   "source": []
  }
 ],
 "metadata": {
  "kernelspec": {
   "display_name": "Python 3",
   "language": "python",
   "name": "python3"
  },
  "language_info": {
   "codemirror_mode": {
    "name": "ipython",
    "version": 3
   },
   "file_extension": ".py",
   "mimetype": "text/x-python",
   "name": "python",
   "nbconvert_exporter": "python",
   "pygments_lexer": "ipython3",
   "version": "3.10.8"
  },
  "orig_nbformat": 4
 },
 "nbformat": 4,
 "nbformat_minor": 2
}
